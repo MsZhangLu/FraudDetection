{
 "cells": [
  {
   "cell_type": "markdown",
   "metadata": {},
   "source": [
    "# Fraud Detection\n",
    "Nov. 2018\n",
    "\n",
    "Lu Zhang"
   ]
  },
  {
   "cell_type": "markdown",
   "metadata": {},
   "source": [
    "## Goal: \n",
    "The goal of this challenge is to build a machine learning model that predicts the probability that the first transaction of new user is fraudulent."
   ]
  },
  {
   "cell_type": "markdown",
   "metadata": {},
   "source": [
    "## <a id='summary' style='color:black'>Outline: </a>\n",
    "1. Data Preprocessing\n",
    "2. Exploratory Data Analysis & Feature Engineering\n",
    "3. Model Training and Selection\n",
    "4. Hyperparameter Tuning\n",
    "5. Findings & Suggestion"
   ]
  },
  {
   "cell_type": "markdown",
   "metadata": {},
   "source": [
    "### [1. Data Preprocessing](#data_processing)\n",
    "\n",
    "For this analysis, I will use `pandas` for data manipulation, `matplotlib` for plotting, and `sklearn` for machine learning. \n",
    "\n",
    "**1.1 Data loading and browsing**\n",
    "\n",
    "**1.2 Data preparation**: Join dataframes\n",
    "\n",
    "**1.3 Data cleansing**\n",
    "\n",
    "**1.4 Data transformation**: Transform time-series variable\n"
   ]
  },
  {
   "cell_type": "markdown",
   "metadata": {},
   "source": [
    "### [2. Exploratory Data Analysis and Feature Engineering](#eda)\n",
    "* I performed EDA with target, checked relationship between variables and response, and generated features as necessary.\n",
    "\n",
    "**2.1 Transaction Attributes:**\n",
    "* `age`, `country`: Categorical features with too many levels.I binned the features down to reduce model complexity\n",
    "\n",
    "* `purchase_value`: Fraudster are tend to place many orders with identical `purchase_value` . Feature `order_cnt` was generated to monitor how many orders with same value a customer place.\n",
    "\n",
    "**2.2 Transaction Digital Foot Prints:**\n",
    "* `source`: Fraud transactions happend more from direct visiting.\n",
    "* `browser`: Fraudsters use chrome more often than other browsers.\n",
    "\n",
    "**2.3 Times:**\n",
    "* In order to take advantage of time series variables, we could create `day_of_week`, `hour_of_day` features for signup and purchase respectively. \n",
    "* Fraudsters are more likely to place order immediately after signing up without browsing content of webpage. So we could generate feature `signup_purchase_delta` to cap this information.\n",
    "\n",
    "**2.4 Transaction Frequencies:**\n",
    "* Frausters may use same `device_id` or same `ip_address` for multiple transactions. More than half of users who signed up with same device more than once are fraudulent. So we could generate features `signup_anomaly` and `ip_anomaly` to monitor users' signup and purchase behavior.\n",
    "* We could also generate `{count}_signup_last_{time_window}_by_{device,ip}` to measure user transactions' frequency. "
   ]
  },
  {
   "cell_type": "markdown",
   "metadata": {},
   "source": [
    "### [3. Model Building](#build)\n",
    "First, we'll split variables into features (X) and target (y), and split data into a training(70%) and test(30%) set. \n",
    "\n",
    "**3.1 Metrics for Model Comparison**\n",
    "* precision, recall, f1-score: Since our data is highly imbalanced, we should consider both precision and racall, rather than just accuracy.\n",
    "\n",
    "* ROC plot and AUC\n",
    "\n",
    "* Profit curve\n",
    "\n",
    "**3.2 Model building preparation**\n",
    "\n",
    "**3.3 Logistic regression (with regularization)**\n",
    "\n",
    "**3.4 Random forest**\n",
    "\n",
    "**3.5 Gradient boosting tree**\n",
    "\n",
    "* Model comparision:\n",
    "\n",
    "Model|Accuracy|Precision|Recall|F1-score|AUC\n",
    "-----|--------|---------|------|--------|----\n",
    "Logistic Regression|0.9570|0.9988|0.5252|0.6884|0.8260\n",
    "Random Forest|0.9570|0.9988|0.5252|0.6884|0.8283\n",
    "Gradient Boosting Tree|0.9569|0.9942|0.5264|0.6887|0.8293\n",
    "\n",
    "* **Without any model tuning, gradient boosting seems to have the best performance** based on the metrics: highest recall, ROC plot with highest AUC. \n",
    "\n",
    "**3.6 Down-sampling:**\n",
    "\n",
    "* All the 3 models' performance have very high precision and poor recall. This is because the data set is imbalanced. \n",
    "* Models built on imbalanced data tend to show a bias to the majority class, treating the minority class as noise. \n",
    "* Moreover, model evaluation metrics have problems, too. When accuracy seems very high, it may just ignore the minority class. So the classifiers are unreliable.\n",
    "* Methods dealing with imbalanced data including, down-sampling, and over-sampling. Here I applied down-sampling, and got model performance below.\n",
    "\n",
    "Model|Accuracy|Precision|Recall|F1-score|AUC\n",
    "-----|--------|---------|------|--------|----\n",
    "Random Forest|0.8179|0.9312|0.6829|0.7879|0.8349\n",
    "Gradient Boosting Tree|0.8177|0.9333|0.6808|0.7873|0.8311\n",
    "\n",
    "Sampling does help to control precision, accuracy, and boost recall on imbalanced dataset."
   ]
  },
  {
   "cell_type": "markdown",
   "metadata": {},
   "source": [
    "### [4. Hyperparameter Tuning](#tune)\n",
    "I adopted `GridSearchCV` in scikit-learn for hyperparameter tuning. It runs through each combination of search parameters, and compares them based on scoring method `roc_auc_score`. Model with best performance:\n",
    "\n",
    "Model|Accuracy|Precision|Recall|F1-score|AUC\n",
    "-----|--------|---------|------|--------|----\n",
    "Random Forest|0.8185|0.9331|0.6826|0.7886|0.8359\n",
    "Gradient Boosting Tree|0.8188|0.9374|0.6796|0.7880|0.8353\n",
    "\n",
    "Random forest classifier has a better performance after tuning. \n",
    "\n",
    "Save the **random forest classifier** with parameter below as **final model** to disk:\n",
    "\n",
    "> RandomForestClassifier(bootstrap=True, class_weight=None, criterion='gini',\n",
    "            max_depth=20, max_features='auto', max_leaf_nodes=None,\n",
    "            min_impurity_decrease=0.0, min_impurity_split=None,\n",
    "            min_samples_leaf=2, min_samples_split=2,\n",
    "            min_weight_fraction_leaf=0.0, n_estimators=200, n_jobs=-1,\n",
    "            oob_score=False, random_state=None, verbose=0,\n",
    "            warm_start=False)"
   ]
  },
  {
   "cell_type": "markdown",
   "metadata": {},
   "source": [
    "### [5. Findings & Suggestion](#findings)\n",
    "**5.1 Findings - Fraud chracteristics**\n",
    "* Fraudsters signup on same device for multiple times.\n",
    "* Fraudsters take care about their ip address. (They may use VPN.) Signing up multiple times at same ip address may be just happened to normal users.\n",
    "* Fraudsters make purchase immediately after signing up.\n",
    "* Fraudsters place many orders with identical purchase value.\n",
    "* Fraudsters more likely to visit the website directly, instead of searching or converting by ads.\n",
    "* Fraudsters are more likely to use Chrome than other browsers.\n",
    "\n",
    "**5.2 Suggestions**\n",
    "* Limit products' purchasing amount per day. \n",
    "* Ask customer fillin CAPTCHA when he/she purchase for the first time. \n",
    "* Limit signup times on each device, in case frausters signup multiple times in a short time.\n",
    "* Increase chance of showing CAPTCHA for user validation, if the user comes to visit the website directly, or visits by Chrome. "
   ]
  },
  {
   "cell_type": "markdown",
   "metadata": {},
   "source": [
    "### [6. Evaluation](#eval)\n",
    "Evaluate the model by unseen data by feeding in test_data.csv. Run the following steps. We can get the predictions' accuracy at the end."
   ]
  },
  {
   "cell_type": "markdown",
   "metadata": {},
   "source": [
    "---"
   ]
  },
  {
   "cell_type": "markdown",
   "metadata": {},
   "source": [
    "## <a id='data_processing' style=\"color:black\">1. Data Preprocessing</a>\n",
    "[back to summary](#summary)"
   ]
  },
  {
   "cell_type": "markdown",
   "metadata": {},
   "source": [
    "### 1.1 Data and Packages Loading"
   ]
  },
  {
   "cell_type": "code",
   "execution_count": 1,
   "metadata": {},
   "outputs": [],
   "source": [
    "# import packages\n",
    "import numpy as np\n",
    "import pandas as pd\n",
    "import matplotlib.pyplot as plt\n",
    "\n",
    "%matplotlib inline"
   ]
  },
  {
   "cell_type": "code",
   "execution_count": 2,
   "metadata": {},
   "outputs": [],
   "source": [
    "# read csv to pandas dataframe\n",
    "df_fraud = pd.read_csv('../data/fraud.csv')\n",
    "df_ip = pd.read_csv('../data/ipAddress_to_Country.csv')"
   ]
  },
  {
   "cell_type": "code",
   "execution_count": 3,
   "metadata": {},
   "outputs": [
    {
     "data": {
      "text/html": [
       "<div>\n",
       "<style scoped>\n",
       "    .dataframe tbody tr th:only-of-type {\n",
       "        vertical-align: middle;\n",
       "    }\n",
       "\n",
       "    .dataframe tbody tr th {\n",
       "        vertical-align: top;\n",
       "    }\n",
       "\n",
       "    .dataframe thead th {\n",
       "        text-align: right;\n",
       "    }\n",
       "</style>\n",
       "<table border=\"1\" class=\"dataframe\">\n",
       "  <thead>\n",
       "    <tr style=\"text-align: right;\">\n",
       "      <th></th>\n",
       "      <th>Unnamed: 0</th>\n",
       "      <th>user_id</th>\n",
       "      <th>signup_time</th>\n",
       "      <th>purchase_time</th>\n",
       "      <th>purchase_value</th>\n",
       "      <th>device_id</th>\n",
       "      <th>source</th>\n",
       "      <th>browser</th>\n",
       "      <th>sex</th>\n",
       "      <th>age</th>\n",
       "      <th>ip_address</th>\n",
       "      <th>class</th>\n",
       "    </tr>\n",
       "  </thead>\n",
       "  <tbody>\n",
       "    <tr>\n",
       "      <th>0</th>\n",
       "      <td>149671</td>\n",
       "      <td>285108</td>\n",
       "      <td>2015-07-15 04:36:55</td>\n",
       "      <td>2015-09-10 14:17:56</td>\n",
       "      <td>31</td>\n",
       "      <td>HZAKVUFTDOSFD</td>\n",
       "      <td>Direct</td>\n",
       "      <td>Chrome</td>\n",
       "      <td>M</td>\n",
       "      <td>49</td>\n",
       "      <td>2.818400e+09</td>\n",
       "      <td>0</td>\n",
       "    </tr>\n",
       "    <tr>\n",
       "      <th>1</th>\n",
       "      <td>15611</td>\n",
       "      <td>131009</td>\n",
       "      <td>2015-01-24 12:29:58</td>\n",
       "      <td>2015-04-13 04:53:55</td>\n",
       "      <td>31</td>\n",
       "      <td>XGQAJSOUJIZCC</td>\n",
       "      <td>SEO</td>\n",
       "      <td>IE</td>\n",
       "      <td>F</td>\n",
       "      <td>21</td>\n",
       "      <td>3.251268e+09</td>\n",
       "      <td>0</td>\n",
       "    </tr>\n",
       "    <tr>\n",
       "      <th>2</th>\n",
       "      <td>73178</td>\n",
       "      <td>328855</td>\n",
       "      <td>2015-03-11 00:54:12</td>\n",
       "      <td>2015-04-05 12:23:49</td>\n",
       "      <td>16</td>\n",
       "      <td>VCCTAYDCWKZIY</td>\n",
       "      <td>Direct</td>\n",
       "      <td>IE</td>\n",
       "      <td>M</td>\n",
       "      <td>26</td>\n",
       "      <td>2.727760e+09</td>\n",
       "      <td>0</td>\n",
       "    </tr>\n",
       "    <tr>\n",
       "      <th>3</th>\n",
       "      <td>84546</td>\n",
       "      <td>229053</td>\n",
       "      <td>2015-01-07 13:19:17</td>\n",
       "      <td>2015-01-09 10:12:06</td>\n",
       "      <td>29</td>\n",
       "      <td>MFFIHYNXCJLEY</td>\n",
       "      <td>SEO</td>\n",
       "      <td>Chrome</td>\n",
       "      <td>M</td>\n",
       "      <td>34</td>\n",
       "      <td>2.083420e+09</td>\n",
       "      <td>0</td>\n",
       "    </tr>\n",
       "    <tr>\n",
       "      <th>4</th>\n",
       "      <td>35978</td>\n",
       "      <td>108439</td>\n",
       "      <td>2015-02-08 21:11:04</td>\n",
       "      <td>2015-04-09 14:26:10</td>\n",
       "      <td>26</td>\n",
       "      <td>WMSXWGVPNIFBM</td>\n",
       "      <td>Ads</td>\n",
       "      <td>FireFox</td>\n",
       "      <td>M</td>\n",
       "      <td>33</td>\n",
       "      <td>3.207913e+09</td>\n",
       "      <td>0</td>\n",
       "    </tr>\n",
       "  </tbody>\n",
       "</table>\n",
       "</div>"
      ],
      "text/plain": [
       "   Unnamed: 0  user_id          signup_time        purchase_time  \\\n",
       "0      149671   285108  2015-07-15 04:36:55  2015-09-10 14:17:56   \n",
       "1       15611   131009  2015-01-24 12:29:58  2015-04-13 04:53:55   \n",
       "2       73178   328855  2015-03-11 00:54:12  2015-04-05 12:23:49   \n",
       "3       84546   229053  2015-01-07 13:19:17  2015-01-09 10:12:06   \n",
       "4       35978   108439  2015-02-08 21:11:04  2015-04-09 14:26:10   \n",
       "\n",
       "   purchase_value      device_id  source  browser sex  age    ip_address  \\\n",
       "0              31  HZAKVUFTDOSFD  Direct   Chrome   M   49  2.818400e+09   \n",
       "1              31  XGQAJSOUJIZCC     SEO       IE   F   21  3.251268e+09   \n",
       "2              16  VCCTAYDCWKZIY  Direct       IE   M   26  2.727760e+09   \n",
       "3              29  MFFIHYNXCJLEY     SEO   Chrome   M   34  2.083420e+09   \n",
       "4              26  WMSXWGVPNIFBM     Ads  FireFox   M   33  3.207913e+09   \n",
       "\n",
       "   class  \n",
       "0      0  \n",
       "1      0  \n",
       "2      0  \n",
       "3      0  \n",
       "4      0  "
      ]
     },
     "execution_count": 3,
     "metadata": {},
     "output_type": "execute_result"
    }
   ],
   "source": [
    "# browse first 5 lines of fraud data\n",
    "df_fraud.head(5)"
   ]
  },
  {
   "cell_type": "code",
   "execution_count": 4,
   "metadata": {},
   "outputs": [
    {
     "data": {
      "text/html": [
       "<div>\n",
       "<style scoped>\n",
       "    .dataframe tbody tr th:only-of-type {\n",
       "        vertical-align: middle;\n",
       "    }\n",
       "\n",
       "    .dataframe tbody tr th {\n",
       "        vertical-align: top;\n",
       "    }\n",
       "\n",
       "    .dataframe thead th {\n",
       "        text-align: right;\n",
       "    }\n",
       "</style>\n",
       "<table border=\"1\" class=\"dataframe\">\n",
       "  <thead>\n",
       "    <tr style=\"text-align: right;\">\n",
       "      <th></th>\n",
       "      <th>Unnamed: 0</th>\n",
       "      <th>user_id</th>\n",
       "      <th>purchase_value</th>\n",
       "      <th>age</th>\n",
       "      <th>ip_address</th>\n",
       "      <th>class</th>\n",
       "    </tr>\n",
       "  </thead>\n",
       "  <tbody>\n",
       "    <tr>\n",
       "      <th>count</th>\n",
       "      <td>120000.000000</td>\n",
       "      <td>120000.000000</td>\n",
       "      <td>120000.000000</td>\n",
       "      <td>120000.000000</td>\n",
       "      <td>1.200000e+05</td>\n",
       "      <td>120000.000000</td>\n",
       "    </tr>\n",
       "    <tr>\n",
       "      <th>mean</th>\n",
       "      <td>75639.133600</td>\n",
       "      <td>200320.280100</td>\n",
       "      <td>36.881475</td>\n",
       "      <td>33.125250</td>\n",
       "      <td>2.151550e+09</td>\n",
       "      <td>0.093875</td>\n",
       "    </tr>\n",
       "    <tr>\n",
       "      <th>std</th>\n",
       "      <td>43619.702878</td>\n",
       "      <td>115361.945935</td>\n",
       "      <td>18.325855</td>\n",
       "      <td>8.617081</td>\n",
       "      <td>1.248314e+09</td>\n",
       "      <td>0.291656</td>\n",
       "    </tr>\n",
       "    <tr>\n",
       "      <th>min</th>\n",
       "      <td>1.000000</td>\n",
       "      <td>2.000000</td>\n",
       "      <td>9.000000</td>\n",
       "      <td>18.000000</td>\n",
       "      <td>9.344714e+04</td>\n",
       "      <td>0.000000</td>\n",
       "    </tr>\n",
       "    <tr>\n",
       "      <th>25%</th>\n",
       "      <td>37867.750000</td>\n",
       "      <td>100925.500000</td>\n",
       "      <td>22.000000</td>\n",
       "      <td>27.000000</td>\n",
       "      <td>1.085345e+09</td>\n",
       "      <td>0.000000</td>\n",
       "    </tr>\n",
       "    <tr>\n",
       "      <th>50%</th>\n",
       "      <td>75703.000000</td>\n",
       "      <td>200037.500000</td>\n",
       "      <td>34.000000</td>\n",
       "      <td>33.000000</td>\n",
       "      <td>2.155238e+09</td>\n",
       "      <td>0.000000</td>\n",
       "    </tr>\n",
       "    <tr>\n",
       "      <th>75%</th>\n",
       "      <td>113417.250000</td>\n",
       "      <td>300395.500000</td>\n",
       "      <td>49.000000</td>\n",
       "      <td>39.000000</td>\n",
       "      <td>3.241268e+09</td>\n",
       "      <td>0.000000</td>\n",
       "    </tr>\n",
       "    <tr>\n",
       "      <th>max</th>\n",
       "      <td>151112.000000</td>\n",
       "      <td>400000.000000</td>\n",
       "      <td>154.000000</td>\n",
       "      <td>76.000000</td>\n",
       "      <td>4.294850e+09</td>\n",
       "      <td>1.000000</td>\n",
       "    </tr>\n",
       "  </tbody>\n",
       "</table>\n",
       "</div>"
      ],
      "text/plain": [
       "          Unnamed: 0        user_id  purchase_value            age  \\\n",
       "count  120000.000000  120000.000000   120000.000000  120000.000000   \n",
       "mean    75639.133600  200320.280100       36.881475      33.125250   \n",
       "std     43619.702878  115361.945935       18.325855       8.617081   \n",
       "min         1.000000       2.000000        9.000000      18.000000   \n",
       "25%     37867.750000  100925.500000       22.000000      27.000000   \n",
       "50%     75703.000000  200037.500000       34.000000      33.000000   \n",
       "75%    113417.250000  300395.500000       49.000000      39.000000   \n",
       "max    151112.000000  400000.000000      154.000000      76.000000   \n",
       "\n",
       "         ip_address          class  \n",
       "count  1.200000e+05  120000.000000  \n",
       "mean   2.151550e+09       0.093875  \n",
       "std    1.248314e+09       0.291656  \n",
       "min    9.344714e+04       0.000000  \n",
       "25%    1.085345e+09       0.000000  \n",
       "50%    2.155238e+09       0.000000  \n",
       "75%    3.241268e+09       0.000000  \n",
       "max    4.294850e+09       1.000000  "
      ]
     },
     "execution_count": 4,
     "metadata": {},
     "output_type": "execute_result"
    }
   ],
   "source": [
    "# show summary stats\n",
    "df_fraud.describe()"
   ]
  },
  {
   "cell_type": "markdown",
   "metadata": {},
   "source": [
    "### 1.2 Data preparation:\n",
    "* For each user, determine his/her `country` by ip address. We will create feature `country` by joining `df_fraud` and `df_ip`"
   ]
  },
  {
   "cell_type": "code",
   "execution_count": 5,
   "metadata": {},
   "outputs": [],
   "source": [
    "from pandasql import sqldf"
   ]
  },
  {
   "cell_type": "code",
   "execution_count": 6,
   "metadata": {},
   "outputs": [],
   "source": [
    "pysqldf = lambda q: sqldf(q, globals())\n",
    "\n",
    "q = \"\"\"\n",
    "SELECT *\n",
    "FROM df_fraud f\n",
    "LEFT JOIN df_ip i\n",
    "WHERE f.ip_address >= i.lower_bound_ip_address\n",
    "AND f.ip_address <= i.upper_bound_ip_address\n",
    "\"\"\""
   ]
  },
  {
   "cell_type": "markdown",
   "metadata": {},
   "source": [
    "* Join operation is very time-consuming, we could use pyspark to save time."
   ]
  },
  {
   "cell_type": "code",
   "execution_count": 7,
   "metadata": {},
   "outputs": [],
   "source": [
    "# joined = pysqldf(q)"
   ]
  },
  {
   "cell_type": "markdown",
   "metadata": {},
   "source": [
    "* Save the joined result to csv for backup. "
   ]
  },
  {
   "cell_type": "code",
   "execution_count": 9,
   "metadata": {},
   "outputs": [],
   "source": [
    "# joined.to_csv('../data/joined.csv', index=False)"
   ]
  },
  {
   "cell_type": "code",
   "execution_count": 7,
   "metadata": {},
   "outputs": [],
   "source": [
    "# joined = pd.read_csv('../data/joined.csv')"
   ]
  },
  {
   "cell_type": "code",
   "execution_count": 11,
   "metadata": {},
   "outputs": [],
   "source": [
    "# browse join results\n",
    "# joined.head(5)"
   ]
  },
  {
   "cell_type": "code",
   "execution_count": 8,
   "metadata": {},
   "outputs": [
    {
     "name": "stdout",
     "output_type": "stream",
     "text": [
      "Number of records in total:  120000\n",
      "Number of records with country identified:  102582\n",
      "Number of records with country unidentified:  17418\n"
     ]
    }
   ],
   "source": [
    "print(\"Number of records in total: \", len(df_fraud.ip_address))\n",
    "print(\"Number of records with country identified: \", len(joined))\n",
    "print(\"Number of records with country unidentified: \", len(df_fraud.ip_address)-len(joined))"
   ]
  },
  {
   "cell_type": "markdown",
   "metadata": {},
   "source": [
    "* 17418 records' country were unidentified. We need to find them. Name these unidentified records' country as `no_country`. Then merge them with the records identified. "
   ]
  },
  {
   "cell_type": "code",
   "execution_count": 9,
   "metadata": {},
   "outputs": [
    {
     "name": "stderr",
     "output_type": "stream",
     "text": [
      "/Library/Frameworks/Python.framework/Versions/3.6/lib/python3.6/site-packages/ipykernel_launcher.py:8: SettingWithCopyWarning: \n",
      "A value is trying to be set on a copy of a slice from a DataFrame.\n",
      "Try using .loc[row_indexer,col_indexer] = value instead\n",
      "\n",
      "See the caveats in the documentation: http://pandas.pydata.org/pandas-docs/stable/indexing.html#indexing-view-versus-copy\n",
      "  \n"
     ]
    }
   ],
   "source": [
    "# drop unnecessary column 'lower_bound_ip_address' and 'upper_bound_ip_address'\n",
    "joined_selected = joined.drop(['lower_bound_ip_address', 'upper_bound_ip_address'], axis=1)\n",
    "# get user_ids with country identified\n",
    "mask = joined_selected['user_id']\n",
    "# get records with country unidentified\n",
    "df_country_unidentified = df_fraud[~df_fraud['user_id'].isin(mask)]\n",
    "# name unidentified records' country as no_country\n",
    "df_country_unidentified['country'] = 'no_country'"
   ]
  },
  {
   "cell_type": "code",
   "execution_count": 10,
   "metadata": {},
   "outputs": [],
   "source": [
    "# concat all records\n",
    "df_fraud_with_country = pd.concat([joined_selected, df_country_unidentified])"
   ]
  },
  {
   "cell_type": "markdown",
   "metadata": {},
   "source": [
    "### 1.3 Data cleansing"
   ]
  },
  {
   "cell_type": "markdown",
   "metadata": {},
   "source": [
    "* Remove the first column in df_fraud_with_country, as it provide no information."
   ]
  },
  {
   "cell_type": "code",
   "execution_count": 12,
   "metadata": {},
   "outputs": [],
   "source": [
    "df_fraud_with_country.drop('Unnamed: 0', axis=1, inplace=True)"
   ]
  },
  {
   "cell_type": "markdown",
   "metadata": {},
   "source": [
    "* We do not need to deal with missing value now."
   ]
  },
  {
   "cell_type": "code",
   "execution_count": 13,
   "metadata": {
    "scrolled": true
   },
   "outputs": [
    {
     "data": {
      "text/plain": [
       "user_id           0\n",
       "signup_time       0\n",
       "purchase_time     0\n",
       "purchase_value    0\n",
       "device_id         0\n",
       "source            0\n",
       "browser           0\n",
       "sex               0\n",
       "age               0\n",
       "ip_address        0\n",
       "class             0\n",
       "country           0\n",
       "dtype: int64"
      ]
     },
     "execution_count": 13,
     "metadata": {},
     "output_type": "execute_result"
    }
   ],
   "source": [
    "df_fraud_with_country.isnull().sum()"
   ]
  },
  {
   "cell_type": "markdown",
   "metadata": {},
   "source": [
    "### 1.4 Data transformation\n",
    "* Feature data type are all correct, except `signup_time`, `purchase_time`. We will treat datetime features below."
   ]
  },
  {
   "cell_type": "code",
   "execution_count": 14,
   "metadata": {
    "scrolled": true
   },
   "outputs": [
    {
     "name": "stdout",
     "output_type": "stream",
     "text": [
      "<class 'pandas.core.frame.DataFrame'>\n",
      "Int64Index: 120000 entries, 0 to 119994\n",
      "Data columns (total 12 columns):\n",
      "user_id           120000 non-null int64\n",
      "signup_time       120000 non-null object\n",
      "purchase_time     120000 non-null object\n",
      "purchase_value    120000 non-null int64\n",
      "device_id         120000 non-null object\n",
      "source            120000 non-null object\n",
      "browser           120000 non-null object\n",
      "sex               120000 non-null object\n",
      "age               120000 non-null int64\n",
      "ip_address        120000 non-null float64\n",
      "class             120000 non-null int64\n",
      "country           120000 non-null object\n",
      "dtypes: float64(1), int64(4), object(7)\n",
      "memory usage: 11.9+ MB\n"
     ]
    }
   ],
   "source": [
    "df_fraud_with_country.info()"
   ]
  },
  {
   "cell_type": "markdown",
   "metadata": {},
   "source": [
    "#### 1.4.1 Time-series variables"
   ]
  },
  {
   "cell_type": "markdown",
   "metadata": {},
   "source": [
    "* Transform data type of `signup_time` and `purchase_time` from object to datetime ."
   ]
  },
  {
   "cell_type": "code",
   "execution_count": 15,
   "metadata": {},
   "outputs": [],
   "source": [
    "df_fraud_with_country['signup_time'] = pd.to_datetime(df_fraud_with_country['signup_time'])\n",
    "df_fraud_with_country['purchase_time'] = pd.to_datetime(df_fraud_with_country['purchase_time'])"
   ]
  },
  {
   "cell_type": "markdown",
   "metadata": {},
   "source": [
    "#### 1.4.2 Rename target variable \n",
    "* To make it more clear, we will rename the target variable `class` as `fraud`:\n",
    "    * 1: fraud\n",
    "    * 0: not fraud"
   ]
  },
  {
   "cell_type": "code",
   "execution_count": 16,
   "metadata": {},
   "outputs": [],
   "source": [
    "df_fraud_with_country = df_fraud_with_country.rename(columns={'class': 'fraud'})"
   ]
  },
  {
   "cell_type": "markdown",
   "metadata": {},
   "source": [
    "## <a id='eda' style=\"color:black\"> 2. Exploratory Data Analysis</a>\n",
    "[back to summary](#summary)"
   ]
  },
  {
   "cell_type": "code",
   "execution_count": 17,
   "metadata": {},
   "outputs": [],
   "source": [
    "df_eda_t = df_fraud_with_country.copy()"
   ]
  },
  {
   "cell_type": "code",
   "execution_count": 18,
   "metadata": {},
   "outputs": [],
   "source": [
    "# define a function comparing feature distributions plots of fraudsters vs normal users\n",
    "def hist_fraud_vs_normal(df, col_name, bin):\n",
    "    is_fraud = df['fraud'] == 1\n",
    "    fig, axes = plt.subplots(nrows=1, ncols=2)\n",
    "    axes[0].hist(df[is_fraud][col_name].values, bins=bin)\n",
    "    axes[1].hist(df[~is_fraud][col_name].values, bins=bin)\n",
    "    axes[0].set_title('fraud users')\n",
    "    axes[0].set_xlabel(col_name)\n",
    "    axes[0].set_ylabel('counts')\n",
    "    axes[1].set_title('normal users')\n",
    "    axes[1].set_xlabel(col_name)\n",
    "    axes[1].set_ylabel('counts')\n",
    "    \n",
    "    fig.tight_layout()\n",
    "    plt.show()"
   ]
  },
  {
   "cell_type": "markdown",
   "metadata": {},
   "source": [
    "### 2.1 Transaction Attribute"
   ]
  },
  {
   "cell_type": "markdown",
   "metadata": {},
   "source": [
    "**age**: \n",
    "\n",
    "* Age distribution of all users are approximately follow normal distribution, and fraudsters are more likely to claim some specific age. \n",
    "\n",
    "* Feature `age` has too many levels, to avoid making the model too complex, we bin this feature down. "
   ]
  },
  {
   "cell_type": "code",
   "execution_count": 42,
   "metadata": {},
   "outputs": [
    {
     "data": {
      "image/png": "[encoded data removed]",
      "text/plain": [
       "<matplotlib.figure.Figure at 0x1108c4e10>"
      ]
     },
     "metadata": {},
     "output_type": "display_data"
    }
   ],
   "source": [
    "df_eda_t['age'].plot.hist(bins=40, title='Age Distribution of All Users', figsize=(5,2))\n",
    "plt.show()"
   ]
  },
  {
   "cell_type": "code",
   "execution_count": 20,
   "metadata": {
    "scrolled": true
   },
   "outputs": [
    {
     "data": {
      "image/png": "[encoded data removed]",
      "text/plain": [
       "<matplotlib.figure.Figure at 0x112181be0>"
      ]
     },
     "metadata": {},
     "output_type": "display_data"
    }
   ],
   "source": [
    "hist_fraud_vs_normal(df_eda_t, 'age', 40)"
   ]
  },
  {
   "cell_type": "code",
   "execution_count": 21,
   "metadata": {},
   "outputs": [],
   "source": [
    "# bin users' age into 4 group\n",
    "df_eda_t['age_binned'] = pd.qcut(df_eda_t['age'], 4)"
   ]
  },
  {
   "cell_type": "code",
   "execution_count": 24,
   "metadata": {},
   "outputs": [],
   "source": [
    "# df_eda_t[['age_binned', 'fraud']].groupby(\n",
    "#     ['age_binned']).mean()\\\n",
    "#     .plot.barh(figsize=(5,3), legend=False)\n",
    "# plt.show()"
   ]
  },
  {
   "cell_type": "markdown",
   "metadata": {},
   "source": [
    "**purchase_value**:  \n",
    "* While `purchase_value` of normal users are normally distributed, fraud users have a significant count of small `purchase value`. \n",
    "* These transactions maybe used for fraud test. We could bin this feature, feed it into models, and see if it is a significant feature"
   ]
  },
  {
   "cell_type": "code",
   "execution_count": 41,
   "metadata": {},
   "outputs": [
    {
     "data": {
      "image/png": "[encoded data removed]",
      "text/plain": [
       "<matplotlib.figure.Figure at 0x1051e5f60>"
      ]
     },
     "metadata": {},
     "output_type": "display_data"
    }
   ],
   "source": [
    "df_eda_t['purchase_value'].plot.hist(bins=50, \n",
    "                                   title='Purchase Value Frequency Distribution', \n",
    "                                   figsize=(5,2))\n",
    "plt.show()"
   ]
  },
  {
   "cell_type": "code",
   "execution_count": 25,
   "metadata": {},
   "outputs": [
    {
     "data": {
      "image/png": "[encoded data removed]",
      "text/plain": [
       "<matplotlib.figure.Figure at 0x1150c75f8>"
      ]
     },
     "metadata": {},
     "output_type": "display_data"
    }
   ],
   "source": [
    "hist_fraud_vs_normal(df_eda_t, 'purchase_value', 100)"
   ]
  },
  {
   "cell_type": "code",
   "execution_count": 26,
   "metadata": {},
   "outputs": [],
   "source": [
    "# discretize purchase_value\n",
    "df_eda_t['purchase_value_binned'] = pd.qcut(df_eda_t['purchase_value'], q=[0., 0.02, 0.25, 0.5, 0.75, 1.])"
   ]
  },
  {
   "cell_type": "markdown",
   "metadata": {},
   "source": [
    "* Fraudsters are tend to place multiple identical orders on same device when they find a loophole. We could generate a feature `order_cnt` to monitor how many orders with same value a customer place."
   ]
  },
  {
   "cell_type": "code",
   "execution_count": 27,
   "metadata": {},
   "outputs": [],
   "source": [
    "# duplicate orders\n",
    "df_order = df_eda_t[['device_id', 'purchase_value', 'user_id']].groupby(\n",
    "    ['device_id', 'purchase_value']).count().reset_index()[['device_id', 'user_id']].groupby(\n",
    "    'device_id').max().rename(columns={'user_id':'order_cnt'})"
   ]
  },
  {
   "cell_type": "code",
   "execution_count": 28,
   "metadata": {},
   "outputs": [],
   "source": [
    "# join new feature\n",
    "df_eda_t = df_eda_t.set_index('device_id').join(df_order, how='left').reset_index()"
   ]
  },
  {
   "cell_type": "code",
   "execution_count": 29,
   "metadata": {},
   "outputs": [],
   "source": [
    "# fill-in NA\n",
    "df_eda_t['order_cnt'] = df_eda_t['order_cnt'].fillna(0)"
   ]
  },
  {
   "cell_type": "markdown",
   "metadata": {},
   "source": [
    "**sex**: \n",
    "* Fraudsters are more likely to claim male as sex than female."
   ]
  },
  {
   "cell_type": "code",
   "execution_count": 40,
   "metadata": {
    "scrolled": true
   },
   "outputs": [
    {
     "data": {
      "image/png": "[encoded data removed]",
      "text/plain": [
       "<matplotlib.figure.Figure at 0x118f5b4e0>"
      ]
     },
     "metadata": {},
     "output_type": "display_data"
    }
   ],
   "source": [
    "df_eda_t[['sex', 'fraud']].groupby(['sex']).mean().plot.bar(title='Fraud Rate between Female and Male Users', figsize=(5,2), legend=False)\n",
    "plt.show()"
   ]
  },
  {
   "cell_type": "markdown",
   "metadata": {},
   "source": [
    "**country**: \n",
    "* Users' geo distribution is skew and has a long tail."
   ]
  },
  {
   "cell_type": "code",
   "execution_count": 33,
   "metadata": {},
   "outputs": [
    {
     "data": {
      "image/png": "[encoded data removed]",
      "text/plain": [
       "<matplotlib.figure.Figure at 0x1144df128>"
      ]
     },
     "metadata": {},
     "output_type": "display_data"
    }
   ],
   "source": [
    "df_eda_t['country'].value_counts(ascending=True).tail(30).plot.barh(\n",
    "    title = 'Consumer Country Counts (top 30 countries)', figsize=(8, 5), color='#1f77b4')\n",
    "plt.show()"
   ]
  },
  {
   "cell_type": "markdown",
   "metadata": {},
   "source": [
    "* Customers overseas are more likely to be fraudsters. "
   ]
  },
  {
   "cell_type": "code",
   "execution_count": 39,
   "metadata": {},
   "outputs": [
    {
     "data": {
      "image/png": "[encoded data removed]",
      "text/plain": [
       "<matplotlib.figure.Figure at 0x1175c4f28>"
      ]
     },
     "metadata": {},
     "output_type": "display_data"
    }
   ],
   "source": [
    "df_eda_t[['country', 'fraud']].groupby(['country']).mean().sort_values('fraud',ascending=True\n",
    "      ).tail(30).plot.barh(title='Fraudsters Country Counts (top 30 countries)', figsize=(8,5))\n",
    "plt.show()"
   ]
  },
  {
   "cell_type": "markdown",
   "metadata": {},
   "source": [
    "* There are 177 countries. We could not keep all of them in the model for complexity control. We could simply split them into `freq_country` and `not_freq_country` based on fraud rate of each country."
   ]
  },
  {
   "cell_type": "code",
   "execution_count": 35,
   "metadata": {},
   "outputs": [
    {
     "name": "stdout",
     "output_type": "stream",
     "text": [
      "Customers are from 177 countries\n"
     ]
    }
   ],
   "source": [
    "print('Customers are from %d countries' % len(df_eda_t['country'].value_counts()))"
   ]
  },
  {
   "cell_type": "code",
   "execution_count": 36,
   "metadata": {},
   "outputs": [],
   "source": [
    "df_c = df_eda_t[['country', 'fraud']].groupby(['country']).mean().sort_values('fraud',ascending=True\n",
    "      ).tail(30).reset_index()['country']\n",
    "df_eda_t['country_freq'] = np.where((df_eda_t['country'].isin(df_c)), 'freq_country', 'not_freq_country')"
   ]
  },
  {
   "cell_type": "markdown",
   "metadata": {},
   "source": [
    "### 2.2 Transaction Digital Foot Prints"
   ]
  },
  {
   "cell_type": "markdown",
   "metadata": {},
   "source": [
    "**source**: \n",
    "* Most users come to visit via search engine result, and ads, while about 20% users come by directly typing web address."
   ]
  },
  {
   "cell_type": "code",
   "execution_count": 38,
   "metadata": {},
   "outputs": [
    {
     "data": {
      "image/png": "[encoded data removed]",
      "text/plain": [
       "<matplotlib.figure.Figure at 0x1144e6898>"
      ]
     },
     "metadata": {},
     "output_type": "display_data"
    }
   ],
   "source": [
    "df_eda_t['source'].value_counts().plot.bar(title='Source Counts', figsize=(5,2),color='#1f77b4')\n",
    "plt.show()"
   ]
  },
  {
   "cell_type": "markdown",
   "metadata": {},
   "source": [
    "* Fraudsters are more likely to visit the site directly. "
   ]
  },
  {
   "cell_type": "code",
   "execution_count": 44,
   "metadata": {},
   "outputs": [
    {
     "data": {
      "image/png": "[encoded data removed]",
      "text/plain": [
       "<matplotlib.figure.Figure at 0x11992e278>"
      ]
     },
     "metadata": {},
     "output_type": "display_data"
    }
   ],
   "source": [
    "df_eda_t[['source', 'fraud']].groupby(['source']).mean().plot.bar(title='Fraud Rate among sources', \n",
    "                                                                  figsize=(5, 2), legend=False)\n",
    "plt.show()"
   ]
  },
  {
   "cell_type": "markdown",
   "metadata": {},
   "source": [
    "**browser**: \n",
    "* Chrome is the most popular browser among users."
   ]
  },
  {
   "cell_type": "code",
   "execution_count": 46,
   "metadata": {},
   "outputs": [
    {
     "data": {
      "image/png": "[encoded data removed]",
      "text/plain": [
       "<matplotlib.figure.Figure at 0x11a631ba8>"
      ]
     },
     "metadata": {},
     "output_type": "display_data"
    }
   ],
   "source": [
    "df_eda_t['browser'].value_counts().plot.bar(title='Browser Counts', figsize=(5,2),color='#1f77b4')\n",
    "plt.show()"
   ]
  },
  {
   "cell_type": "markdown",
   "metadata": {},
   "source": [
    "* Frausters are more likely to use Chrome as their browser. "
   ]
  },
  {
   "cell_type": "code",
   "execution_count": 48,
   "metadata": {},
   "outputs": [
    {
     "data": {
      "image/png": "[encoded data removed]",
      "text/plain": [
       "<matplotlib.figure.Figure at 0x119b36da0>"
      ]
     },
     "metadata": {},
     "output_type": "display_data"
    }
   ],
   "source": [
    "df_eda_t[['browser', 'fraud']].groupby(['browser']).mean().plot.bar(title='Fraud Rate among Browsers', figsize=(5,2), legend=False)\n",
    "plt.show()"
   ]
  },
  {
   "cell_type": "markdown",
   "metadata": {},
   "source": [
    "### 2.3 Times"
   ]
  },
  {
   "cell_type": "markdown",
   "metadata": {},
   "source": [
    "* Absolute time may not be very useful. We could generate more time series features.\n",
    "\n",
    "    * Some day of week, hour of day may be prefered by fraudsters. For example, if the fraud happends overseas, hour of day is very likely to be midnight of US. So we will create `day_of_week`, `hour_of_day` features respectively for `signup` and `purchase`.\n",
    "    * Normal customers browse the website, compare products, and place orders. But fraudsters just want money, they may take short time browsing, and directly signup and purchase. So we will create a feature respresenting time length between signup and purchase, named `signup_purchase_delta`, and convert it to seconds. "
   ]
  },
  {
   "cell_type": "code",
   "execution_count": 49,
   "metadata": {},
   "outputs": [],
   "source": [
    "# generate day_of_week and hour_of_day for signup and purchase respectively.\n",
    "df_eda_t['signup_day_of_week'] = df_eda_t['signup_time'].apply(lambda x: x.dayofweek)\n",
    "df_eda_t['signup_hour_of_day'] = df_eda_t['signup_time'].apply(lambda x: x.hour)\n",
    "\n",
    "df_eda_t['purchase_day_of_week'] = df_eda_t['purchase_time'].apply(lambda x: x.dayofweek)\n",
    "df_eda_t['purchase_hour_of_day'] = df_eda_t['purchase_time'].apply(lambda x: x.hour)"
   ]
  },
  {
   "cell_type": "code",
   "execution_count": 50,
   "metadata": {},
   "outputs": [],
   "source": [
    "# generate feature representing time difference between user's signup time and first purchase time.\n",
    "df_eda_t['signup_purchase_delta'] = df_eda_t['purchase_time'] - df_eda_t['signup_time']\n",
    "\n",
    "# transform unit of time difference to seconds\n",
    "df_eda_t['signup_purchase_delta_seconds'] = df_eda_t['signup_purchase_delta'].apply(lambda x: x.total_seconds())"
   ]
  },
  {
   "cell_type": "markdown",
   "metadata": {},
   "source": [
    "* Fraudsters are less active on Monday, Tuesday (GMT). "
   ]
  },
  {
   "cell_type": "code",
   "execution_count": 51,
   "metadata": {},
   "outputs": [
    {
     "data": {
      "image/png": "[encoded data removed]",
      "text/plain": [
       "<matplotlib.figure.Figure at 0x114addf60>"
      ]
     },
     "metadata": {},
     "output_type": "display_data"
    }
   ],
   "source": [
    "hist_fraud_vs_normal(df_eda_t, 'purchase_day_of_week', 7)"
   ]
  },
  {
   "cell_type": "markdown",
   "metadata": {},
   "source": [
    "* Fraudsters' activity varies with regard to time, while normal users' activities distribute uniformly. "
   ]
  },
  {
   "cell_type": "code",
   "execution_count": 52,
   "metadata": {},
   "outputs": [
    {
     "data": {
      "image/png": "[encoded data removed]",
      "text/plain": [
       "<matplotlib.figure.Figure at 0x116255080>"
      ]
     },
     "metadata": {},
     "output_type": "display_data"
    }
   ],
   "source": [
    "hist_fraud_vs_normal(df_eda_t, 'purchase_hour_of_day', 24)"
   ]
  },
  {
   "cell_type": "markdown",
   "metadata": {},
   "source": [
    "* Besides, this feature has too many features which may make machine learning models too complex."
   ]
  },
  {
   "cell_type": "code",
   "execution_count": 53,
   "metadata": {},
   "outputs": [],
   "source": [
    "# bin purchase_hour_of_day to 4 groups\n",
    "df_eda_t['purchase_hour_of_day_binned'] = pd.qcut(df_eda_t['purchase_hour_of_day'], 4)"
   ]
  },
  {
   "cell_type": "code",
   "execution_count": 55,
   "metadata": {},
   "outputs": [],
   "source": [
    "# df_eda_t[['purchase_hour_of_day_binned', 'fraud']].groupby(\n",
    "#     ['purchase_hour_of_day_binned']).mean()\\\n",
    "#     .plot.barh(figsize=(5,3), legend=False)\n",
    "# plt.show()"
   ]
  },
  {
   "cell_type": "markdown",
   "metadata": {},
   "source": [
    "* Most frausters finish purchasing soon after they signup, while normal users distribute uniformly. "
   ]
  },
  {
   "cell_type": "code",
   "execution_count": 56,
   "metadata": {},
   "outputs": [
    {
     "data": {
      "image/png": "[encoded data removed]",
      "text/plain": [
       "<matplotlib.figure.Figure at 0x118bfc668>"
      ]
     },
     "metadata": {},
     "output_type": "display_data"
    }
   ],
   "source": [
    "hist_fraud_vs_normal(df_eda_t, 'signup_purchase_delta_seconds', 50)"
   ]
  },
  {
   "cell_type": "markdown",
   "metadata": {},
   "source": [
    "* Lots of fraud transactions happends right after user's signup, split the feature into `purchase_within_10s` and `purchase_after_10s`."
   ]
  },
  {
   "cell_type": "code",
   "execution_count": 57,
   "metadata": {},
   "outputs": [],
   "source": [
    "df_eda_t['signup_purchase_delta_seconds_binary'] = pd.cut(df_eda_t['signup_purchase_delta_seconds'], bins=[0, 10, float('inf')], \n",
    "                                                           labels=['purchase_within_10s', 'purchase_after_10s'])"
   ]
  },
  {
   "cell_type": "code",
   "execution_count": 59,
   "metadata": {
    "scrolled": true
   },
   "outputs": [
    {
     "data": {
      "image/png": "[encoded data removed]",
      "text/plain": [
       "<matplotlib.figure.Figure at 0x11283ee48>"
      ]
     },
     "metadata": {},
     "output_type": "display_data"
    }
   ],
   "source": [
    "df_eda_t[['signup_purchase_delta_seconds_binary', 'fraud']].groupby(\n",
    "    ['signup_purchase_delta_seconds_binary']).mean()\\\n",
    "    .plot.barh(figsize=(5,2))\n",
    "plt.show()"
   ]
  },
  {
   "cell_type": "markdown",
   "metadata": {},
   "source": [
    "### 2.4 Transaction Frequencies"
   ]
  },
  {
   "cell_type": "markdown",
   "metadata": {},
   "source": [
    "* Fraudsters may use same `device_id` or same `ip_address` for multiple transactions.\n",
    "* More than half of users who signed up with same device more than once are fraudulent. So we could generate features `signup_anomaly` and `ip_anomaly` to monitor users' signup and purchase behavior."
   ]
  },
  {
   "cell_type": "code",
   "execution_count": 65,
   "metadata": {},
   "outputs": [
    {
     "data": {
      "image/png": "[encoded data removed]",
      "text/plain": [
       "<matplotlib.figure.Figure at 0x118bb5278>"
      ]
     },
     "metadata": {},
     "output_type": "display_data"
    }
   ],
   "source": [
    "# get all devices signed up\n",
    "devices = df_eda_t[['device_id', 'fraud']].set_index('device_id')\n",
    "# devices that signed up duplicated\n",
    "dup_device = df_eda_t['device_id'].value_counts().to_frame(name='count')\n",
    "# compare number of fraudsters and normal users signed up on same device more than once\n",
    "devices.join(dup_device[dup_device['count'] > 1], how='inner').groupby('fraud').count().plot.bar(figsize=(5,2))\n",
    "plt.show()"
   ]
  },
  {
   "cell_type": "code",
   "execution_count": 61,
   "metadata": {},
   "outputs": [],
   "source": [
    "# Find devices signup more than twice a day\n",
    "df_eda_t['signup_date'] = df_eda_t['signup_time'].apply(lambda x: x.date()) # get date attribute\n",
    "df_device = df_eda_t[['device_id', 'signup_date']].groupby('device_id').count()\n",
    "df_device['signup_anomaly'] = np.where((df_device['signup_date'] <= 2), 0, 1)\n",
    "df_device.drop('signup_date', axis=1, inplace=True) # remove temporary column"
   ]
  },
  {
   "cell_type": "code",
   "execution_count": 62,
   "metadata": {},
   "outputs": [],
   "source": [
    "# join new feature signup_anomaly into dataframe\n",
    "df_eda_t = df_eda_t.set_index('device_id').join(df_device, how='left').reset_index()"
   ]
  },
  {
   "cell_type": "markdown",
   "metadata": {},
   "source": [
    "* Do the same job to `ip_address`, since fraudsters may use same ip to make multiple transaction."
   ]
  },
  {
   "cell_type": "code",
   "execution_count": 64,
   "metadata": {},
   "outputs": [
    {
     "data": {
      "image/png": "[encoded data removed]",
      "text/plain": [
       "<matplotlib.figure.Figure at 0x118fc4978>"
      ]
     },
     "metadata": {},
     "output_type": "display_data"
    }
   ],
   "source": [
    "# get all ip_address used for signup\n",
    "ip_addresses = df_eda_t[['ip_address', 'fraud']].set_index('ip_address')\n",
    "# devices that signed up duplicated\n",
    "dup_ip = df_eda_t['ip_address'].value_counts().to_frame(name='count')\n",
    "# compare number of fraudsters and normal users signed up on same device more than once\n",
    "ip_addresses.join(dup_ip[dup_ip['count'] > 1], how='inner').groupby('fraud').count().plot.bar(figsize=(5,2))\n",
    "plt.show()"
   ]
  },
  {
   "cell_type": "code",
   "execution_count": 66,
   "metadata": {},
   "outputs": [],
   "source": [
    "df_ip = df_eda_t['ip_address'].value_counts().to_frame(name='ip_count')"
   ]
  },
  {
   "cell_type": "code",
   "execution_count": 67,
   "metadata": {},
   "outputs": [],
   "source": [
    "df_ip['ip_anomaly'] = np.where((df_ip['ip_count'] <= 2), 0, 1)\n",
    "df_ip.drop('ip_count', axis=1, inplace=True)"
   ]
  },
  {
   "cell_type": "code",
   "execution_count": 68,
   "metadata": {},
   "outputs": [],
   "source": [
    "# join new feature ip_anomaly into dataframe\n",
    "df_eda_t = df_eda_t.set_index('ip_address').join(df_ip, how='left').reset_index()\n",
    "# rename index -> ip_address\n",
    "df_eda_t = df_eda_t.rename(columns={'index':'ip_address'})"
   ]
  },
  {
   "cell_type": "markdown",
   "metadata": {},
   "source": [
    "* Generate transaction frequency features `{count}_signup_last_{time_window}_by_{device,ip}`\n",
    "    * First, set the last time point of purchasing as the snapshot_time, and compute time difference between purchase and snapshot for every record."
   ]
  },
  {
   "cell_type": "code",
   "execution_count": 69,
   "metadata": {},
   "outputs": [],
   "source": [
    "df_eda_t['snapshot_time'] = max(df_eda_t['purchase_time'])\n",
    "df_eda_t['snap_pur_time_delta'] = df_eda_t['snapshot_time'] - df_eda_t['purchase_time']\n",
    "df_eda_t['snap_pur_time_delta'] = df_eda_t['snap_pur_time_delta'].apply(lambda x: float(x.total_seconds()))"
   ]
  },
  {
   "cell_type": "code",
   "execution_count": 70,
   "metadata": {},
   "outputs": [
    {
     "name": "stdout",
     "output_type": "stream",
     "text": [
      "longest time window:  349 days 02:55:22\n"
     ]
    }
   ],
   "source": [
    "# longest time window in the data\n",
    "print('longest time window: ', max(df_eda_t['purchase_time']) - min(df_eda_t['signup_time']))\n",
    "# so we split time window into most recent 1 day, 1 week, 2 weeks, 1 month, 3 months, 6 months, and 9 months\n",
    "time_window_list = [86400, 604800, 1209600, 2592000, 7776000, 15552000, 23328000,31104000]"
   ]
  },
  {
   "cell_type": "code",
   "execution_count": 71,
   "metadata": {},
   "outputs": [],
   "source": [
    "for time_window in time_window_list:\n",
    "    df_eda_t['last_'+str(time_window//86400)+'_day'] = np.where(\n",
    "        (df_eda_t['snap_pur_time_delta'] < time_window), 1, 0)"
   ]
  },
  {
   "cell_type": "code",
   "execution_count": 72,
   "metadata": {},
   "outputs": [],
   "source": [
    "recency_list = []\n",
    "for time_window in time_window_list:\n",
    "    recency_list.append('last_'+str(time_window//86400)+'_day')"
   ]
  },
  {
   "cell_type": "code",
   "execution_count": 73,
   "metadata": {},
   "outputs": [],
   "source": [
    "# make a copy of df_eda_t, since df_eda_t will be assigned an index later.\n",
    "df_eda_tt = df_eda_t.copy() \n",
    "df_eda_t = df_eda_t.set_index('device_id')"
   ]
  },
  {
   "cell_type": "code",
   "execution_count": 74,
   "metadata": {},
   "outputs": [],
   "source": [
    "for recency in recency_list:\n",
    "    tt = df_eda_tt[[recency, 'device_id', 'user_id']][\n",
    "        df_eda_tt[recency]==1].groupby(\n",
    "        'device_id').count().drop(recency, axis=1).rename(\n",
    "        columns={'user_id':'count_signup_'+str(recency)+'_by_device'})\n",
    "    tt = tt['count_signup_'+str(recency)+'_by_device'].fillna(0)\n",
    "    df_eda_t = df_eda_t.join(tt, how='left')"
   ]
  },
  {
   "cell_type": "code",
   "execution_count": 75,
   "metadata": {},
   "outputs": [],
   "source": [
    "# fill-in na \n",
    "for recency in recency_list:\n",
    "    df_eda_t['count_signup_'+str(recency)+'_by_device'] = df_eda_t['count_signup_'+str(recency)+'_by_device'].fillna(0)"
   ]
  },
  {
   "cell_type": "code",
   "execution_count": 76,
   "metadata": {},
   "outputs": [],
   "source": [
    "df_eda_t = df_eda_t.reset_index()"
   ]
  },
  {
   "cell_type": "markdown",
   "metadata": {},
   "source": [
    "* Do the same to ip_address. "
   ]
  },
  {
   "cell_type": "code",
   "execution_count": 77,
   "metadata": {},
   "outputs": [],
   "source": [
    "df_eda_t = df_eda_t.set_index('ip_address')"
   ]
  },
  {
   "cell_type": "code",
   "execution_count": 78,
   "metadata": {},
   "outputs": [],
   "source": [
    "for recency in recency_list:\n",
    "    tt = df_eda_tt[[recency, 'ip_address', 'user_id']][\n",
    "        df_eda_tt[recency]==1].groupby(\n",
    "        'ip_address').count().drop(recency, axis=1).rename(\n",
    "        columns={'user_id':'count_signup_'+str(recency)+'_by_ip'})\n",
    "    tt = tt['count_signup_'+str(recency)+'_by_ip'].fillna(0)\n",
    "    df_eda_t = df_eda_t.join(tt, how='left')"
   ]
  },
  {
   "cell_type": "code",
   "execution_count": 79,
   "metadata": {},
   "outputs": [],
   "source": [
    "# fill-in na \n",
    "for recency in recency_list:\n",
    "    df_eda_t['count_signup_'+str(recency)+'_by_ip'] = df_eda_t['count_signup_'+str(recency)+'_by_ip'].fillna(0)"
   ]
  },
  {
   "cell_type": "code",
   "execution_count": 80,
   "metadata": {},
   "outputs": [],
   "source": [
    "df_eda_t = df_eda_t.reset_index()"
   ]
  },
  {
   "cell_type": "markdown",
   "metadata": {},
   "source": [
    "## <a id='build' style='color:black'>3. Model Building</a>\n",
    "[back to summary](#summary)"
   ]
  },
  {
   "cell_type": "markdown",
   "metadata": {},
   "source": [
    "### 3.1 Metrics for Mondel Comparision"
   ]
  },
  {
   "cell_type": "markdown",
   "metadata": {},
   "source": [
    "* precision, recall, f1-score\n",
    "* ROC plot and AUC\n",
    "* Profit curve"
   ]
  },
  {
   "cell_type": "markdown",
   "metadata": {},
   "source": [
    "**precision, recall, f1-score:** We can get accuracy, precision, recall, and f1-score through `sklearn`. Here, since our data is highly imbalanced, we should consider both precision and racall, rather than just accuracy."
   ]
  },
  {
   "cell_type": "code",
   "execution_count": 81,
   "metadata": {},
   "outputs": [],
   "source": [
    "from sklearn.metrics import precision_score, accuracy_score, recall_score, f1_score, roc_auc_score\n",
    "from sklearn.metrics import roc_curve, auc\n",
    "from sklearn.metrics import make_scorer"
   ]
  },
  {
   "cell_type": "code",
   "execution_count": 82,
   "metadata": {},
   "outputs": [],
   "source": [
    "def get_performance_metrics(y_train, y_train_pred, y_test, y_test_pred, threshold=0.5): \n",
    "    # threshold = 0.5, better than random guess.\n",
    "    metric_names = ['AUC', 'Accuracy', 'Precision', 'Recall', 'f1-score']\n",
    "    metric_values_train = [\n",
    "        roc_auc_score(y_train, y_train_pred), \n",
    "        accuracy_score(y_train, y_train_pred>threshold),\n",
    "        precision_score(y_train, y_train_pred>threshold), \n",
    "        recall_score(y_train, y_train_pred>threshold), \n",
    "        f1_score(y_train, y_train_pred>threshold)\n",
    "    ]\n",
    "    \n",
    "    metric_values_test = [\n",
    "        roc_auc_score(y_test, y_test_pred), \n",
    "        accuracy_score(y_test, y_test_pred>threshold),\n",
    "        precision_score(y_test, y_test_pred>threshold), \n",
    "        recall_score(y_test, y_test_pred>threshold), \n",
    "        f1_score(y_test, y_test_pred>threshold)\n",
    "    ]\n",
    "    \n",
    "    all_metrics = pd.DataFrame({\n",
    "        'metrics': metric_names,\n",
    "        'train': metric_values_train,\n",
    "        'test': metric_values_test,\n",
    "    }, columns = ['metrics', 'train', 'test']).set_index('metrics')\n",
    "    \n",
    "    print(all_metrics)"
   ]
  },
  {
   "cell_type": "markdown",
   "metadata": {},
   "source": [
    "**ROC plot**"
   ]
  },
  {
   "cell_type": "code",
   "execution_count": 83,
   "metadata": {},
   "outputs": [],
   "source": [
    "def plot_roc_curve(y_train, y_train_pred, y_test, y_test_pred):\n",
    "    roc_auc_train = roc_auc_score(y_train, y_train_pred)\n",
    "    fpr_train, tpr_train, _ = roc_curve(y_train, y_train_pred)\n",
    "    \n",
    "    roc_auc_test = roc_auc_score(y_test, y_test_pred)\n",
    "    fpr_test, tpr_test, _ = roc_curve(y_test, y_test_pred)\n",
    "    \n",
    "    plt.figure()\n",
    "    lw = 2\n",
    "    plt.plot(fpr_train, tpr_train, color='green', \n",
    "            lw=lw, label=\"ROC Train (AUC = %0.4f)\" % roc_auc_train)\n",
    "    plt.plot(fpr_test, tpr_test, color='darkorange', \n",
    "            lw=lw, label=\"ROC Test (AUC = %0.4f)\" % roc_auc_test)\n",
    "    plt.plot([0,1], [0,1], color='navy', lw=lw, linestyle='--')\n",
    "    plt.xlim([0.0, 1.0])\n",
    "    plt.ylim([0.0, 1.05])\n",
    "    plt.xlabel('False Positive Rate')\n",
    "    plt.ylabel('True Positive Rate')\n",
    "    plt.title('Receiver operating characteristic')\n",
    "    plt.legend(loc='lower right')\n",
    "    plt.show()"
   ]
  },
  {
   "cell_type": "markdown",
   "metadata": {},
   "source": [
    "**Profit curve:** The cost benefit matrix defined here is in dollars. We will lose the money if we fail to identify a fraudulent transaction. We will cost value $8 if we incorrectly flag a transaction as fraudulent. "
   ]
  },
  {
   "cell_type": "markdown",
   "metadata": {},
   "source": [
    "matrix      | Actual + | Actual -\n",
    "------------|----------|----------\n",
    "Predicted + | TP  | FP ($8)\n",
    "Predicted - | FN (purchase_value) | TN "
   ]
  },
  {
   "cell_type": "markdown",
   "metadata": {},
   "source": [
    "I don't have time to write code plotting profit curve. I will leave this as next step. \n",
    "Profit curve is a very good measure for model selection when given cost and benifit of business. "
   ]
  },
  {
   "cell_type": "markdown",
   "metadata": {},
   "source": [
    "### 3.2 Model Building Preparation\n",
    "* Define a function integrated with common statements for training model with sklearn"
   ]
  },
  {
   "cell_type": "code",
   "execution_count": 86,
   "metadata": {},
   "outputs": [],
   "source": [
    "# define function to perform train, test, and get model performance\n",
    "def train_test_model(clf, X_train, y_train, X_test, y_test):\n",
    "    # fit model with training data\n",
    "    clf.fit(X_train, y_train)\n",
    "    \n",
    "    # make prediction on training data\n",
    "    y_train_pred = clf.predict(X_train)\n",
    "    p_train_pred = clf.predict_proba(X_train)[:, 1]\n",
    "    \n",
    "    # make prediction on testing data\n",
    "    y_test_pred = clf.predict(X_test)\n",
    "    p_test_pred = clf.predict_proba(X_test)[:, 1]\n",
    "    \n",
    "    # model performance\n",
    "    get_performance_metrics(y_train, p_train_pred, y_test, p_test_pred)\n",
    "    plot_roc_curve(y_train, p_train_pred, y_test, p_test_pred)"
   ]
  },
  {
   "cell_type": "markdown",
   "metadata": {},
   "source": [
    "### 3.3 Logistic Regression"
   ]
  },
  {
   "cell_type": "code",
   "execution_count": 87,
   "metadata": {},
   "outputs": [],
   "source": [
    "df_model_lr = df_eda_t.copy()"
   ]
  },
  {
   "cell_type": "markdown",
   "metadata": {},
   "source": [
    "#### 3.3.1 Trainin Data preparation\n",
    "**Select features**"
   ]
  },
  {
   "cell_type": "code",
   "execution_count": 88,
   "metadata": {},
   "outputs": [],
   "source": [
    "col_cat = ['source', 'browser', 'age_binned', 'purchase_value_binned',\n",
    "           'signup_day_of_week', \n",
    "           'purchase_day_of_week', \n",
    "           'purchase_hour_of_day_binned', \n",
    "          'signup_purchase_delta_seconds_binary',\n",
    "          'country_freq']\n",
    "col_other = ['fraud', 'signup_anomaly', 'ip_anomaly', \n",
    "             'count_signup_last_90_day_by_device',\n",
    "             'count_signup_last_180_day_by_device',\n",
    "             'count_signup_last_270_day_by_device',\n",
    "             'count_signup_last_360_day_by_device',\n",
    "             'count_signup_last_90_day_by_ip',\n",
    "             'count_signup_last_180_day_by_ip',\n",
    "             'count_signup_last_270_day_by_ip',\n",
    "             'count_signup_last_360_day_by_ip',\n",
    "             'order_cnt'\n",
    "            ]"
   ]
  },
  {
   "cell_type": "markdown",
   "metadata": {},
   "source": [
    "**One-hot encoding**"
   ]
  },
  {
   "cell_type": "code",
   "execution_count": 89,
   "metadata": {},
   "outputs": [],
   "source": [
    "df_dummies = pd.get_dummies(df_model_lr[col_cat], columns=col_cat)\n",
    "df_model_lr = df_model_lr[col_other].join(df_dummies)"
   ]
  },
  {
   "cell_type": "markdown",
   "metadata": {},
   "source": [
    "**Define features and target**"
   ]
  },
  {
   "cell_type": "code",
   "execution_count": 90,
   "metadata": {},
   "outputs": [
    {
     "data": {
      "text/plain": [
       "((120000, 50), (120000,))"
      ]
     },
     "execution_count": 90,
     "metadata": {},
     "output_type": "execute_result"
    }
   ],
   "source": [
    "selected_features = list(df_model_lr.columns.values)\n",
    "selected_features.remove('fraud')\n",
    "X = df_model_lr[selected_features]\n",
    "y = df_model_lr['fraud']\n",
    "X.shape, y.shape"
   ]
  },
  {
   "cell_type": "markdown",
   "metadata": {},
   "source": [
    "**Feature standardization**"
   ]
  },
  {
   "cell_type": "code",
   "execution_count": 91,
   "metadata": {},
   "outputs": [],
   "source": [
    "from sklearn.preprocessing import StandardScaler\n",
    "scaler=StandardScaler()\n",
    "SX=scaler.fit_transform(X, y)"
   ]
  },
  {
   "cell_type": "markdown",
   "metadata": {},
   "source": [
    "**Train test data split**"
   ]
  },
  {
   "cell_type": "code",
   "execution_count": 92,
   "metadata": {},
   "outputs": [],
   "source": [
    "from sklearn.model_selection import train_test_split\n",
    "SX_train, SX_test, y_train, y_test = train_test_split(SX, y, test_size=0.3, random_state=42)"
   ]
  },
  {
   "cell_type": "markdown",
   "metadata": {},
   "source": [
    "#### 3.3.2 Model Training"
   ]
  },
  {
   "cell_type": "code",
   "execution_count": 93,
   "metadata": {},
   "outputs": [
    {
     "name": "stdout",
     "output_type": "stream",
     "text": [
      "              train      test\n",
      "metrics                      \n",
      "AUC        0.839550  0.826006\n",
      "Accuracy   0.955952  0.957028\n",
      "Precision  0.999768  0.998831\n",
      "Recall     0.538260  0.525200\n",
      "f1-score   0.699773  0.688419\n"
     ]
    },
    {
     "data": {
      "image/png": "[encoded data removed]",
      "text/plain": [
       "<matplotlib.figure.Figure at 0x11dafca58>"
      ]
     },
     "metadata": {},
     "output_type": "display_data"
    }
   ],
   "source": [
    "from sklearn.linear_model import LogisticRegression\n",
    "\n",
    "clf = LogisticRegression(C=1.0, penalty='l2') # initialize model\n",
    "clf.fit(SX_train, y_train) # fit a model by providing X and y from training set\n",
    "\n",
    "train_test_model(clf, SX_train, y_train, SX_test, y_test) # make prediction on train and test data"
   ]
  },
  {
   "cell_type": "markdown",
   "metadata": {},
   "source": [
    "* Model Performance\n",
    "    * `logistic regression` automacally avoid overfitting by add penalization. \n",
    "    * `logistic regression` is good for interpretation. See coefficients understanding below."
   ]
  },
  {
   "cell_type": "markdown",
   "metadata": {},
   "source": [
    "* Understanding the Estimated Coefficients\n",
    "    * Customers, who place order after browsing the webpage more than 10s, are very likely to be normal, while conversely, frausters place order immediately after signing up.\n",
    "    * Customers come to purchase by directly typing web address are more likely to be fraudsters, while those customers come thru ads or search engine results are more likely to be normal.\n",
    "    * Customers signed up multiple times on same device are more likely to be fraudsters. \n",
    "    * It seems like fraudsters take care of their ip address, customers signup multiple times at same ip address are more likely to be normal."
   ]
  },
  {
   "cell_type": "code",
   "execution_count": 97,
   "metadata": {},
   "outputs": [
    {
     "data": {
      "image/png": "[encoded data removed]",
      "text/plain": [
       "<matplotlib.figure.Figure at 0x1200814e0>"
      ]
     },
     "metadata": {},
     "output_type": "display_data"
    }
   ],
   "source": [
    "# plot eastimated coefficients of logistic regression\n",
    "df_coeffs = pd.DataFrame(list(zip(selected_features, clf.coef_.flatten()))).sort_values(by=[1], ascending=False)\n",
    "df_coeffs.columns = ['feature', 'coeff']\n",
    "\n",
    "ax = df_coeffs.plot.barh(title='Logistic Regression Feature Coefficients', figsize=(10,9))\n",
    "t = np.arange(X.shape[1])\n",
    "ax.set_yticks(t)\n",
    "ax.set_yticklabels(df_coeffs['feature'])\n",
    "plt.show()"
   ]
  },
  {
   "cell_type": "markdown",
   "metadata": {},
   "source": [
    "### 3.4 Random forest"
   ]
  },
  {
   "cell_type": "code",
   "execution_count": 98,
   "metadata": {},
   "outputs": [],
   "source": [
    "df_model = df_eda_t.copy()"
   ]
  },
  {
   "cell_type": "markdown",
   "metadata": {},
   "source": [
    "**Select features**"
   ]
  },
  {
   "cell_type": "code",
   "execution_count": 99,
   "metadata": {},
   "outputs": [],
   "source": [
    "col_cat = ['source', 'browser', 'signup_day_of_week', 'purchase_day_of_week', \n",
    "           'purchase_hour_of_day', 'country_freq']\n",
    "col_other = ['fraud', 'purchase_value', 'signup_anomaly', 'ip_anomaly', 'age',\n",
    "             'signup_purchase_delta_seconds',\n",
    "            'count_signup_last_1_day_by_device','count_signup_last_7_day_by_device',\n",
    "             'count_signup_last_14_day_by_device','count_signup_last_30_day_by_device',\n",
    "             'count_signup_last_90_day_by_device','count_signup_last_180_day_by_device',\n",
    "             'count_signup_last_270_day_by_device','count_signup_last_360_day_by_device',\n",
    "             'count_signup_last_1_day_by_ip','count_signup_last_7_day_by_ip',\n",
    "             'count_signup_last_14_day_by_ip','count_signup_last_30_day_by_ip',\n",
    "             'count_signup_last_90_day_by_ip','count_signup_last_180_day_by_ip',\n",
    "             'count_signup_last_270_day_by_ip','count_signup_last_360_day_by_ip',\n",
    "             'order_cnt']"
   ]
  },
  {
   "cell_type": "code",
   "execution_count": 100,
   "metadata": {},
   "outputs": [],
   "source": [
    "df_dummies = pd.get_dummies(df_model[col_cat], columns=col_cat)"
   ]
  },
  {
   "cell_type": "code",
   "execution_count": 101,
   "metadata": {},
   "outputs": [],
   "source": [
    "df_model = df_model[col_other].join(df_dummies)"
   ]
  },
  {
   "cell_type": "markdown",
   "metadata": {},
   "source": [
    "**Define features and target**"
   ]
  },
  {
   "cell_type": "code",
   "execution_count": 106,
   "metadata": {},
   "outputs": [
    {
     "data": {
      "text/plain": [
       "((120000, 70), (120000,))"
      ]
     },
     "execution_count": 106,
     "metadata": {},
     "output_type": "execute_result"
    }
   ],
   "source": [
    "selected_features = list(df_model.columns.values)\n",
    "selected_features.remove('fraud')\n",
    "X = df_model[selected_features]\n",
    "y = df_model['fraud']\n",
    "X.shape, y.shape"
   ]
  },
  {
   "cell_type": "markdown",
   "metadata": {},
   "source": [
    "**Train test data split**"
   ]
  },
  {
   "cell_type": "code",
   "execution_count": 107,
   "metadata": {},
   "outputs": [],
   "source": [
    "from sklearn.model_selection import train_test_split\n",
    "X_train, X_test, y_train, y_test = train_test_split(X, y, test_size=0.3, random_state=42)"
   ]
  },
  {
   "cell_type": "code",
   "execution_count": 108,
   "metadata": {},
   "outputs": [
    {
     "name": "stdout",
     "output_type": "stream",
     "text": [
      "              train      test\n",
      "metrics                      \n",
      "AUC        0.979360  0.828326\n",
      "Accuracy   0.955964  0.957028\n",
      "Precision  1.000000  0.998831\n",
      "Recall     0.538260  0.525200\n",
      "f1-score   0.699830  0.688419\n"
     ]
    },
    {
     "data": {
      "image/png": "[encoded data removed]",
      "text/plain": [
       "<matplotlib.figure.Figure at 0x11e466da0>"
      ]
     },
     "metadata": {},
     "output_type": "display_data"
    }
   ],
   "source": [
    "from sklearn.ensemble import RandomForestClassifier\n",
    "\n",
    "parameters = {\n",
    "    'n_estimators':400,\n",
    "    'max_features':'auto',\n",
    "    'criterion':'gini',\n",
    "    'max_depth':25,\n",
    "    'min_samples_split':2,\n",
    "    'min_samples_leaf':10,\n",
    "    'random_state':0,\n",
    "    'n_jobs':-1\n",
    "}\n",
    "\n",
    "clf = RandomForestClassifier(**parameters)\n",
    "clf.fit(X_train, y_train)\n",
    "train_test_model(clf, X_train, y_train, X_test, y_test)"
   ]
  },
  {
   "cell_type": "markdown",
   "metadata": {},
   "source": [
    "**Random Forest Feature Importance**\n",
    "\n",
    "Significant features of random forest are similar to those in logistic regression model."
   ]
  },
  {
   "cell_type": "code",
   "execution_count": 112,
   "metadata": {},
   "outputs": [
    {
     "data": {
      "image/png": "[encoded data removed]",
      "text/plain": [
       "<matplotlib.figure.Figure at 0x123250400>"
      ]
     },
     "metadata": {},
     "output_type": "display_data"
    }
   ],
   "source": [
    "df_feature_importance = pd.DataFrame()\n",
    "df_feature_importance['feature'] = selected_features\n",
    "df_feature_importance['importance'] = clf.feature_importances_\n",
    "df_feature_importance.sort_values('importance', inplace=True)\n",
    "\n",
    "ax = df_feature_importance.sort_values('importance', ascending=True).tail(20).plot.barh(figsize=(8, 4),legend=False)\n",
    "t = np.arange(20)\n",
    "ax.set_yticks(t)\n",
    "ax.set_yticklabels(df_feature_importance.sort_values('importance', ascending=True).tail(20)['feature'])\n",
    "\n",
    "plt.show()"
   ]
  },
  {
   "cell_type": "markdown",
   "metadata": {},
   "source": [
    "* Just little improvement compared with `logistic regression`. \n",
    "* The model is overfitting.\n",
    "* Need more tuning. "
   ]
  },
  {
   "cell_type": "markdown",
   "metadata": {},
   "source": [
    "### 3.5 Gradient Boosting Trees"
   ]
  },
  {
   "cell_type": "code",
   "execution_count": 113,
   "metadata": {},
   "outputs": [
    {
     "name": "stdout",
     "output_type": "stream",
     "text": [
      "              train      test\n",
      "metrics                      \n",
      "AUC        0.867153  0.829341\n",
      "Accuracy   0.956452  0.956917\n",
      "Precision  0.999312  0.994196\n",
      "Recall     0.543752  0.526429\n",
      "f1-score   0.704285  0.688366\n"
     ]
    },
    {
     "data": {
      "image/png": "[encoded data removed]",
      "text/plain": [
       "<matplotlib.figure.Figure at 0x125648c18>"
      ]
     },
     "metadata": {},
     "output_type": "display_data"
    }
   ],
   "source": [
    "from sklearn.ensemble import GradientBoostingClassifier\n",
    "\n",
    "parameters = { # Choose some parameter combinations to try\n",
    "    'n_estimators':200,\n",
    "    'max_depth':3,\n",
    "    'learning_rate':0.1,\n",
    "    'subsample':0.7,\n",
    "    'max_features':0.8,\n",
    "    'random_state': 42 \n",
    "}\n",
    "\n",
    "clf = GradientBoostingClassifier(**parameters) # initialize classifier\n",
    "\n",
    "train_test_model(clf, X_train, y_train, X_test, y_test) # Train test model"
   ]
  },
  {
   "cell_type": "markdown",
   "metadata": {},
   "source": [
    "**Without any model tuning, gradient boosting seems to have the best performance** based on the metrics: highest recall, ROC plot with highest AUC. And it doesn't overfitting like random forest tree."
   ]
  },
  {
   "cell_type": "markdown",
   "metadata": {},
   "source": [
    "All the 3 models' performance are poor on recall. Comparing fraud users amount and normal user amount, we could see this is because the data set is imbalanced. "
   ]
  },
  {
   "cell_type": "code",
   "execution_count": 114,
   "metadata": {},
   "outputs": [
    {
     "data": {
      "image/png": "[encoded data removed]",
      "text/plain": [
       "<matplotlib.figure.Figure at 0x1200f26d8>"
      ]
     },
     "metadata": {},
     "output_type": "display_data"
    }
   ],
   "source": [
    "df_eda_t['fraud'].value_counts().plot.bar(title='Normal vs Fraud')\n",
    "plt.show()"
   ]
  },
  {
   "cell_type": "markdown",
   "metadata": {},
   "source": [
    "###  3.6 Sampling"
   ]
  },
  {
   "cell_type": "markdown",
   "metadata": {},
   "source": [
    "* The dataset is highly imbalance. Models built on imbalanced data tend to show a bias to the majority class, treating the minority class as noise. \n",
    "* Moreover, model evaluation metrics have problems, too. When accuracy seems very high, it may just ignore the minority class. So the classifiers are unreliable.\n",
    "* Methods dealing with imbalanced data including, down-sampling, and over-sampling. "
   ]
  },
  {
   "cell_type": "markdown",
   "metadata": {},
   "source": [
    "Here, we will use `down-sampling`. \n",
    "* Downsample majority class to match minority class"
   ]
  },
  {
   "cell_type": "code",
   "execution_count": 115,
   "metadata": {},
   "outputs": [],
   "source": [
    "# df_down_sample = df_eda_t.copy()\n",
    "df_down_sample = df_model.copy()"
   ]
  },
  {
   "cell_type": "code",
   "execution_count": 116,
   "metadata": {},
   "outputs": [],
   "source": [
    "i_class_fraud = df_down_sample[df_down_sample['fraud'] == 1].index.values\n",
    "i_class_normal = df_down_sample[df_down_sample['fraud'] == 0].index.values"
   ]
  },
  {
   "cell_type": "code",
   "execution_count": 117,
   "metadata": {},
   "outputs": [],
   "source": [
    "n_class_fraud = len(i_class_fraud)\n",
    "n_class_normal = len(i_class_normal)"
   ]
  },
  {
   "cell_type": "code",
   "execution_count": 118,
   "metadata": {},
   "outputs": [],
   "source": [
    "i_class_normal_downsampled = np.random.choice(i_class_normal, size = n_class_fraud, replace=False)"
   ]
  },
  {
   "cell_type": "code",
   "execution_count": 119,
   "metadata": {},
   "outputs": [],
   "source": [
    "df_down_sample = pd.concat([df_down_sample.iloc[i_class_normal_downsampled], \n",
    "           df_down_sample.iloc[i_class_fraud]])"
   ]
  },
  {
   "cell_type": "code",
   "execution_count": 120,
   "metadata": {},
   "outputs": [],
   "source": [
    "df_down_sample_model = df_down_sample.copy()"
   ]
  },
  {
   "cell_type": "markdown",
   "metadata": {},
   "source": [
    "* Apply random forest on down-sampled dataset."
   ]
  },
  {
   "cell_type": "code",
   "execution_count": 121,
   "metadata": {},
   "outputs": [
    {
     "data": {
      "text/plain": [
       "((22530, 70), (22530,))"
      ]
     },
     "execution_count": 121,
     "metadata": {},
     "output_type": "execute_result"
    }
   ],
   "source": [
    "# define features and target\n",
    "selected_features = list(df_down_sample_model.columns.values)\n",
    "selected_features.remove('fraud')\n",
    "X = df_down_sample_model[selected_features]\n",
    "y = df_down_sample_model['fraud']\n",
    "X.shape, y.shape"
   ]
  },
  {
   "cell_type": "code",
   "execution_count": 122,
   "metadata": {},
   "outputs": [],
   "source": [
    "# train, test data split\n",
    "from sklearn.model_selection import train_test_split\n",
    "X_train, X_test, y_train, y_test = train_test_split(X, y, test_size=0.3, random_state=42)"
   ]
  },
  {
   "cell_type": "code",
   "execution_count": 123,
   "metadata": {},
   "outputs": [
    {
     "name": "stdout",
     "output_type": "stream",
     "text": [
      "              train      test\n",
      "metrics                      \n",
      "AUC        0.958989  0.834936\n",
      "Accuracy   0.812758  0.817872\n",
      "Precision  0.925424  0.931189\n",
      "Recall     0.681910  0.682890\n",
      "f1-score   0.785221  0.787941\n"
     ]
    },
    {
     "data": {
      "image/png": "[encoded data removed]",
      "text/plain": [
       "<matplotlib.figure.Figure at 0x120093390>"
      ]
     },
     "metadata": {},
     "output_type": "display_data"
    }
   ],
   "source": [
    "from sklearn.ensemble import RandomForestClassifier\n",
    "\n",
    "parameters = {\n",
    "    'n_estimators':400,\n",
    "    'max_features':'auto',\n",
    "    'criterion':'gini',\n",
    "    'max_depth':25,\n",
    "    'min_samples_split':2,\n",
    "    'min_samples_leaf':10,\n",
    "    'random_state':0,\n",
    "    'n_jobs':-1\n",
    "}\n",
    "\n",
    "clf = RandomForestClassifier(**parameters)\n",
    "clf.fit(X_train, y_train)\n",
    "train_test_model(clf, X_train, y_train, X_test, y_test)"
   ]
  },
  {
   "cell_type": "markdown",
   "metadata": {},
   "source": [
    "* Apply gradient boosting tree on down-sampled dataset. "
   ]
  },
  {
   "cell_type": "code",
   "execution_count": 124,
   "metadata": {},
   "outputs": [
    {
     "name": "stdout",
     "output_type": "stream",
     "text": [
      "              train      test\n",
      "metrics                      \n",
      "AUC        0.891114  0.831127\n",
      "Accuracy   0.817703  0.817725\n",
      "Precision  0.934045  0.933279\n",
      "Recall     0.685195  0.680800\n",
      "f1-score   0.790498  0.787293\n"
     ]
    },
    {
     "data": {
      "image/png": "[encoded data removed]",
      "text/plain": [
       "<matplotlib.figure.Figure at 0x12013beb8>"
      ]
     },
     "metadata": {},
     "output_type": "display_data"
    }
   ],
   "source": [
    "from sklearn.ensemble import GradientBoostingClassifier\n",
    "\n",
    "parameters = {\n",
    "    'n_estimators':200,\n",
    "    'max_depth':3,\n",
    "    'learning_rate':0.1,\n",
    "    'subsample':0.7,\n",
    "    'max_features':0.8,\n",
    "    'random_state': 42\n",
    "}\n",
    "\n",
    "clf = GradientBoostingClassifier(**parameters)\n",
    "\n",
    "# Train test model\n",
    "train_test_model(clf, X_train, y_train, X_test, y_test)"
   ]
  },
  {
   "cell_type": "markdown",
   "metadata": {},
   "source": [
    "Recall of random forest and gradient boosting trees are both boosted. "
   ]
  },
  {
   "cell_type": "markdown",
   "metadata": {},
   "source": [
    "## <a id='tune' style='color:black'>4. Hyperparameter Tuning</a>\n",
    "[back to summary](#summary)"
   ]
  },
  {
   "cell_type": "markdown",
   "metadata": {},
   "source": [
    "* Tuning models by `GridSearch` to automatically search best parameters. `GridSearch` uses cross validation inherently. "
   ]
  },
  {
   "cell_type": "markdown",
   "metadata": {},
   "source": [
    "**Tuning random forest parameters**"
   ]
  },
  {
   "cell_type": "code",
   "execution_count": 125,
   "metadata": {},
   "outputs": [
    {
     "data": {
      "text/plain": [
       "RandomForestClassifier(bootstrap=True, class_weight=None, criterion='gini',\n",
       "            max_depth=20, max_features='auto', max_leaf_nodes=None,\n",
       "            min_impurity_decrease=0.0, min_impurity_split=None,\n",
       "            min_samples_leaf=2, min_samples_split=2,\n",
       "            min_weight_fraction_leaf=0.0, n_estimators=200, n_jobs=-1,\n",
       "            oob_score=False, random_state=None, verbose=0,\n",
       "            warm_start=False)"
      ]
     },
     "execution_count": 125,
     "metadata": {},
     "output_type": "execute_result"
    }
   ],
   "source": [
    "# tune model\n",
    "from sklearn.ensemble import RandomForestClassifier\n",
    "from sklearn.metrics import make_scorer, roc_auc_score, accuracy_score\n",
    "from sklearn.model_selection import GridSearchCV\n",
    "# Choose the type of classifier. \n",
    "clf_rf = RandomForestClassifier()\n",
    "# Choose some parameter combinations to try\n",
    "param_grid = {'n_estimators': [100, 150, 200], \n",
    "              'max_features': ['auto'], \n",
    "              'criterion': ['gini'],\n",
    "              'max_depth': [20,25], \n",
    "              'min_samples_split': [2],\n",
    "              'min_samples_leaf': [2,5,10],\n",
    "              'n_jobs':[-1]\n",
    "             }\n",
    "# Type of scoring used to compare parameter combinations\n",
    "acc_scorer = make_scorer(roc_auc_score)\n",
    "# Run the grid search\n",
    "grid_obj = GridSearchCV(clf_rf, param_grid, cv=5, scoring=acc_scorer)\n",
    "grid_obj = grid_obj.fit(X_train, y_train)\n",
    "# Set the clf to the best combination of parameters\n",
    "clf_rf = grid_obj.best_estimator_\n",
    "# Fit the best algorithm to the data. \n",
    "clf_rf.fit(X_train, y_train)"
   ]
  },
  {
   "cell_type": "code",
   "execution_count": 126,
   "metadata": {},
   "outputs": [
    {
     "name": "stdout",
     "output_type": "stream",
     "text": [
      "              train      test\n",
      "metrics                      \n",
      "AUC        0.982954  0.835886\n",
      "Accuracy   0.830258  0.818464\n",
      "Precision  0.960774  0.933061\n",
      "Recall     0.689995  0.682592\n",
      "f1-score   0.803176  0.788412\n"
     ]
    },
    {
     "data": {
      "image/png": "[encoded data removed]",
      "text/plain": [
       "<matplotlib.figure.Figure at 0x125648470>"
      ]
     },
     "metadata": {},
     "output_type": "display_data"
    }
   ],
   "source": [
    "# Rebuild random forest classifiers with best parameters from grid search\n",
    "train_test_model(clf_rf, X_train, y_train, X_test, y_test)"
   ]
  },
  {
   "cell_type": "markdown",
   "metadata": {},
   "source": [
    "**Tuning gradient boosting tree parameters**"
   ]
  },
  {
   "cell_type": "code",
   "execution_count": 127,
   "metadata": {},
   "outputs": [
    {
     "data": {
      "text/plain": [
       "GradientBoostingClassifier(criterion='friedman_mse', init=None,\n",
       "              learning_rate=0.1, loss='deviance', max_depth=3,\n",
       "              max_features=None, max_leaf_nodes=None,\n",
       "              min_impurity_decrease=0.0, min_impurity_split=None,\n",
       "              min_samples_leaf=1, min_samples_split=2,\n",
       "              min_weight_fraction_leaf=0.0, n_estimators=100,\n",
       "              presort='auto', random_state=42, subsample=1.0, verbose=0,\n",
       "              warm_start=False)"
      ]
     },
     "execution_count": 127,
     "metadata": {},
     "output_type": "execute_result"
    }
   ],
   "source": [
    "from sklearn.ensemble import GradientBoostingClassifier\n",
    "from sklearn.metrics import make_scorer, roc_auc_score, accuracy_score\n",
    "from sklearn.model_selection import GridSearchCV\n",
    "\n",
    "clf_gb = GradientBoostingClassifier()\n",
    "\n",
    "param_grid = {\n",
    "    # tree_size\n",
    "    'max_depth':[3,5],\n",
    "#     'max_leaf_nodes':[4,6],\n",
    "    # regulating overfitting\n",
    "    'n_estimators': [100,200],\n",
    "    'learning_rate':[0.1, 0.05],\n",
    "    'random_state': [42]\n",
    "}\n",
    "# Type of scoring used to compare parameter combinations\n",
    "acc_scorer = make_scorer(roc_auc_score)\n",
    "# Run the grid search\n",
    "grid_obj = GridSearchCV(clf_gb, param_grid, cv=5, scoring=acc_scorer)\n",
    "grid_obj = grid_obj.fit(X_train, y_train)\n",
    "# Set the clf to the best combination of parameters\n",
    "clf_gb = grid_obj.best_estimator_\n",
    "# Fit the best algorithm to the data. \n",
    "clf_gb.fit(X_train, y_train)"
   ]
  },
  {
   "cell_type": "code",
   "execution_count": 128,
   "metadata": {},
   "outputs": [
    {
     "name": "stdout",
     "output_type": "stream",
     "text": [
      "              train      test\n",
      "metrics                      \n",
      "AUC        0.869213  0.835317\n",
      "Accuracy   0.816308  0.818760\n",
      "Precision  0.933046  0.937397\n",
      "Recall     0.683047  0.679606\n",
      "f1-score   0.788710  0.787952\n"
     ]
    },
    {
     "data": {
      "image/png": "[encoded data removed]",
      "text/plain": [
       "<matplotlib.figure.Figure at 0x1202946a0>"
      ]
     },
     "metadata": {},
     "output_type": "display_data"
    }
   ],
   "source": [
    "# Rebuild gradient boost classifiers with best parameters from grid search\n",
    "train_test_model(clf_gb, X_train, y_train, X_test, y_test)"
   ]
  },
  {
   "cell_type": "code",
   "execution_count": 359,
   "metadata": {
    "scrolled": true
   },
   "outputs": [
    {
     "data": {
      "text/plain": [
       "GradientBoostingClassifier(criterion='friedman_mse', init=None,\n",
       "              learning_rate=0.05, loss='deviance', max_depth=3,\n",
       "              max_features=None, max_leaf_nodes=None,\n",
       "              min_impurity_decrease=0.0, min_impurity_split=None,\n",
       "              min_samples_leaf=1, min_samples_split=2,\n",
       "              min_weight_fraction_leaf=0.0, n_estimators=100,\n",
       "              presort='auto', random_state=42, subsample=1.0, verbose=0,\n",
       "              warm_start=False)"
      ]
     },
     "execution_count": 359,
     "metadata": {},
     "output_type": "execute_result"
    }
   ],
   "source": [
    "from sklearn.ensemble import GradientBoostingClassifier\n",
    "from sklearn.metrics import make_scorer, roc_auc_score, accuracy_score\n",
    "from sklearn.model_selection import GridSearchCV\n",
    "\n",
    "clf_gb = GradientBoostingClassifier()\n",
    "\n",
    "param_grid = {\n",
    "    # tree_size\n",
    "    'max_depth':[3,5],\n",
    "#     'max_leaf_nodes':[4,6],\n",
    "    # regulating overfitting\n",
    "    'n_estimators': [100,200],\n",
    "    'learning_rate':[0.1, 0.05],\n",
    "    'random_state': [42]\n",
    "}\n",
    "# Type of scoring used to compare parameter combinations\n",
    "acc_scorer = make_scorer(roc_auc_score)\n",
    "# Run the grid search\n",
    "grid_obj = GridSearchCV(clf_gb, param_grid, cv=5, scoring=acc_scorer)\n",
    "grid_obj = grid_obj.fit(X_train, y_train)\n",
    "# Set the clf to the best combination of parameters\n",
    "clf_gb = grid_obj.best_estimator_\n",
    "# Fit the best algorithm to the data. \n",
    "clf_gb.fit(X_train, y_train)"
   ]
  },
  {
   "cell_type": "code",
   "execution_count": 360,
   "metadata": {},
   "outputs": [
    {
     "name": "stdout",
     "output_type": "stream",
     "text": [
      "              train      test\n",
      "metrics                      \n",
      "AUC        0.854533  0.836288\n",
      "Accuracy   0.814533  0.819648\n",
      "Precision  0.930927  0.938633\n",
      "Recall     0.681026  0.680502\n",
      "f1-score   0.786605  0.788991\n"
     ]
    },
    {
     "data": {
      "image/png": "[encoded data removed]",
      "text/plain": [
       "<matplotlib.figure.Figure at 0x1206a2c50>"
      ]
     },
     "metadata": {},
     "output_type": "display_data"
    }
   ],
   "source": [
    "# Rebuild gradient boost classifiers with best parameters from grid search\n",
    "train_test_model(clf_gb, X_train, y_train, X_test, y_test)"
   ]
  },
  {
   "cell_type": "markdown",
   "metadata": {},
   "source": [
    "### Final model\n",
    "Gradient boosting tree has a better performance."
   ]
  },
  {
   "cell_type": "code",
   "execution_count": 131,
   "metadata": {},
   "outputs": [],
   "source": [
    "from sklearn.externals import joblib"
   ]
  },
  {
   "cell_type": "code",
   "execution_count": 132,
   "metadata": {},
   "outputs": [
    {
     "data": {
      "text/plain": [
       "['../finalized_model/fraud_classifier.sav']"
      ]
     },
     "execution_count": 132,
     "metadata": {},
     "output_type": "execute_result"
    }
   ],
   "source": [
    "# save the model to disk\n",
    "filename = '../finalized_model/fraud_classifier.sav'\n",
    "joblib.dump(clf_rf, filename)"
   ]
  },
  {
   "cell_type": "code",
   "execution_count": 133,
   "metadata": {},
   "outputs": [
    {
     "name": "stdout",
     "output_type": "stream",
     "text": [
      "0.8184642698624057\n"
     ]
    }
   ],
   "source": [
    "from sklearn.externals import joblib\n",
    "\n",
    "# load model\n",
    "loaded_model = joblib.load(filename)\n",
    "result = loaded_model.score(X_test, y_test)\n",
    "print(result) # accuracy"
   ]
  },
  {
   "cell_type": "code",
   "execution_count": 137,
   "metadata": {},
   "outputs": [
    {
     "name": "stdout",
     "output_type": "stream",
     "text": [
      "[0.72672511 0.32461139 0.24810769 ... 0.67299079 0.27876293 0.67922511]\n"
     ]
    }
   ],
   "source": [
    "# Probability of first transaction of a new user is fraudulent.\n",
    "p_test_pred = loaded_model.predict_proba(X_test)[:, 1] \n",
    "print(p_test_pred)"
   ]
  },
  {
   "cell_type": "markdown",
   "metadata": {},
   "source": [
    "## <a id='findings' style='color:black'>5. Findings & Suggestion</a>\n",
    "[back to summary](#summary)\n",
    "\n",
    "**5.1 Findings - Fraud chracteristics**\n",
    "* Fraudsters signup on same device for multiple times.\n",
    "* Fraudsters take care about their ip address. (They may use VPN.) Signing up multiple times at same ip address may be just happened to normal users.\n",
    "* Fraudsters make purchase immediately after signing up.\n",
    "* Fraudsters place many orders with identical purchase value.\n",
    "* Fraudsters more likely to visit the website directly, instead of searching or converting by ads.\n",
    "* Fraudsters are more likely to use Chrome than other browsers.\n",
    "\n",
    "**5.2 Suggestions**\n",
    "* Limit products' purchasing amount per day. \n",
    "* Ask customer fillin CAPTCHA when he/she purchase for the first time. \n",
    "* Limit signup times on each device, in case frausters signup multiple times in a short time.\n",
    "* Increase chance of showing CAPTCHA for user validation, if the user comes to visit the website directly, or visits by Chrome. "
   ]
  },
  {
   "cell_type": "markdown",
   "metadata": {},
   "source": [
    "## <a id='eval' style='color:black'>6. Model Evaluation on Test Data</a>\n",
    "[back to summary](#summary)"
   ]
  },
  {
   "cell_type": "code",
   "execution_count": null,
   "metadata": {},
   "outputs": [],
   "source": [
    "import pandas as pd\n",
    "import numpy as np\n",
    "from pandasql import sqldf\n",
    "\n",
    "df_fraud = pd.read_csv('path/to/test_data') # test_data\n",
    "df_ip = pd.read_csv('../data/IpAddress_to_Country.csv')"
   ]
  },
  {
   "cell_type": "code",
   "execution_count": null,
   "metadata": {},
   "outputs": [],
   "source": [
    "# join dataframes, to determine users' countries. \n",
    "pysqldf = lambda q: sqldf(q, globals())\n",
    "\n",
    "q = \"\"\"\n",
    "SELECT *\n",
    "FROM df_fraud f\n",
    "LEFT JOIN df_ip i\n",
    "WHERE f.ip_address >= i.lower_bound_ip_address\n",
    "AND f.ip_address <= i.upper_bound_ip_address\n",
    "\"\"\"\n",
    "\n",
    "joined = pysqldf(q)"
   ]
  },
  {
   "cell_type": "code",
   "execution_count": null,
   "metadata": {},
   "outputs": [],
   "source": [
    "# Feature transformation, same as processings to training data.\n",
    "# drop unnecessary column 'lower_bound_ip_address' and 'upper_bound_ip_address'\n",
    "joined_selected = joined.drop(['lower_bound_ip_address', 'upper_bound_ip_address'], axis=1)\n",
    "# get user_ids with country identified\n",
    "mask = joined_selected['user_id']\n",
    "# get records with country unidentified\n",
    "df_country_unidentified = df_fraud[~df_fraud['user_id'].isin(mask)]\n",
    "# name unidentified records' country as no_country\n",
    "df_country_unidentified['country'] = 'no_country'\n",
    "\n",
    "# concat all records\n",
    "frames = [joined_selected, df_country_unidentified]\n",
    "df_fraud_with_country = pd.concat(frames)\n",
    "\n",
    "df_fraud_with_country.drop('Unnamed: 0', axis=1, inplace=True)\n",
    "\n",
    "# transform time-series variable\n",
    "df_fraud_with_country['signup_time'] = pd.to_datetime(df_fraud_with_country['signup_time'])\n",
    "df_fraud_with_country['purchase_time'] = pd.to_datetime(df_fraud_with_country['purchase_time'])\n",
    "\n",
    "# rename target variable\n",
    "df_fraud_with_country = df_fraud_with_country.rename(columns={'class': 'fraud'})\n",
    "\n",
    "\n",
    "df_eda_t = df_fraud_with_country.copy()\n",
    "\n",
    "df_eda_t['age_binned'] = pd.qcut(df_eda_t['age'], 4)\n",
    "df_eda_t['purchase_value_binned'] = pd.qcut(df_eda_t['purchase_value'], q=[0., 0.02, 0.25, 0.5, 0.75, 1.])\n",
    "\n",
    "# duplicate orders\n",
    "df_order = df_eda_t[['device_id', 'purchase_value', 'user_id']].groupby(\n",
    "    ['device_id', 'purchase_value']).count().reset_index()[['device_id', 'user_id']].groupby(\n",
    "    'device_id').max().rename(columns={'user_id':'order_cnt'})\n",
    "\n",
    "df_eda_t = df_eda_t.set_index('device_id').join(df_order, how='left').reset_index()\n",
    "\n",
    "df_eda_t['order_cnt'] = df_eda_t['order_cnt'].fillna(0)\n",
    "\n",
    "df_c = df_eda_t[['country', 'fraud']].groupby(['country']).mean().sort_values('fraud',ascending=True\n",
    "      ).tail(30).reset_index()['country']\n",
    "\n",
    "df_eda_t['country_freq'] = np.where((df_eda_t['country'].isin(df_c)), 'freq_country', 'not_freq_country')\n",
    "\n",
    "# generate day_of_week and hour_of_day for signup and purchase respectively.\n",
    "df_eda_t['signup_day_of_week'] = df_eda_t['signup_time'].apply(lambda x: x.dayofweek)\n",
    "df_eda_t['signup_hour_of_day'] = df_eda_t['signup_time'].apply(lambda x: x.hour)\n",
    "\n",
    "df_eda_t['purchase_day_of_week'] = df_eda_t['purchase_time'].apply(lambda x: x.dayofweek)\n",
    "df_eda_t['purchase_hour_of_day'] = df_eda_t['purchase_time'].apply(lambda x: x.hour)\n",
    "\n",
    "# generate feature representing time difference between user's signup time and first purchase time.\n",
    "df_eda_t['signup_purchase_delta'] = df_eda_t['purchase_time'] - df_eda_t['signup_time']\n",
    "\n",
    "# transform unit of time difference to seconds\n",
    "df_eda_t['signup_purchase_delta_seconds'] = df_eda_t['signup_purchase_delta'].apply(lambda x: x.total_seconds())\n",
    "\n",
    "# bin purchase_hour_of_day to 4 groups\n",
    "df_eda_t['purchase_hour_of_day_binned'] = pd.qcut(df_eda_t['purchase_hour_of_day'], 4)\n",
    "\n",
    "df_eda_t['signup_purchase_delta_seconds_binary'] = pd.cut(df_eda_t['signup_purchase_delta_seconds'], bins=[0, 10, float('inf')], \n",
    "                                                           labels=['purchase_within_10s', 'purchase_after_10s'])\n",
    "\n",
    "# Find devices signup more than twice a day\n",
    "df_eda_t['signup_date'] = df_eda_t['signup_time'].apply(lambda x: x.date()) # get date attribute\n",
    "df_device = df_eda_t[['device_id', 'signup_date']].groupby('device_id').count()\n",
    "df_device['signup_anomaly'] = np.where((df_device['signup_date'] <= 2), 0, 1)\n",
    "df_device.drop('signup_date', axis=1, inplace=True) # remove temporary column\n",
    "\n",
    "# join new feature signup_anomaly into dataframe\n",
    "df_eda_t = df_eda_t.set_index('device_id').join(df_device, how='left').reset_index()\n",
    "\n",
    "\n",
    "df_ip = df_eda_t['ip_address'].value_counts().to_frame(name='ip_count')\n",
    "\n",
    "df_ip['ip_anomaly'] = np.where((df_ip['ip_count'] <= 2), 0, 1)\n",
    "df_ip.drop('ip_count', axis=1, inplace=True)\n",
    "\n",
    "# join new feature ip_anomaly into dataframe\n",
    "df_eda_t = df_eda_t.set_index('ip_address').join(df_ip, how='left').reset_index()\n",
    "# rename index -> ip_address\n",
    "df_eda_t = df_eda_t.rename(columns={'index':'ip_address'})\n",
    "\n",
    "df_eda_t['snapshot_time'] = max(df_eda_t['purchase_time'])\n",
    "df_eda_t['snap_pur_time_delta'] = df_eda_t['snapshot_time'] - df_eda_t['purchase_time']\n",
    "df_eda_t['snap_pur_time_delta'] = df_eda_t['snap_pur_time_delta'].apply(lambda x: float(x.total_seconds()))\n",
    "\n",
    "time_window_list = [86400, 604800, 1209600, 2592000, 7776000, 15552000, 23328000,31104000]\n",
    "\n",
    "for time_window in time_window_list:\n",
    "    df_eda_t['last_'+str(time_window//86400)+'_day'] = np.where(\n",
    "        (df_eda_t['snap_pur_time_delta'] < time_window), 1, 0)\n",
    "\n",
    "recency_list = []\n",
    "for time_window in time_window_list:\n",
    "    recency_list.append('last_'+str(time_window//86400)+'_day')\n",
    "    \n",
    "# make a copy of df_eda_t, since df_eda_t will be assigned an index later.\n",
    "df_eda_tt = df_eda_t.copy() \n",
    "df_eda_t = df_eda_t.set_index('device_id')\n",
    "\n",
    "for recency in recency_list:\n",
    "    tt = df_eda_tt[[recency, 'device_id', 'user_id']][\n",
    "        df_eda_tt[recency]==1].groupby(\n",
    "        'device_id').count().drop(recency, axis=1).rename(\n",
    "        columns={'user_id':'count_signup_'+str(recency)+'_by_device'})\n",
    "    tt = tt['count_signup_'+str(recency)+'_by_device'].fillna(0)\n",
    "    df_eda_t = df_eda_t.join(tt, how='left')\n",
    "    \n",
    "# fill-in na \n",
    "for recency in recency_list:\n",
    "    df_eda_t['count_signup_'+str(recency)+'_by_device'] = df_eda_t['count_signup_'+str(recency)+'_by_device'].fillna(0)\n",
    "    \n",
    "df_eda_t = df_eda_t.reset_index()\n",
    "\n",
    "df_eda_t = df_eda_t.set_index('ip_address')\n",
    "\n",
    "for recency in recency_list:\n",
    "    tt = df_eda_tt[[recency, 'ip_address', 'user_id']][\n",
    "        df_eda_tt[recency]==1].groupby(\n",
    "        'ip_address').count().drop(recency, axis=1).rename(\n",
    "        columns={'user_id':'count_signup_'+str(recency)+'_by_ip'})\n",
    "    tt = tt['count_signup_'+str(recency)+'_by_ip'].fillna(0)\n",
    "    df_eda_t = df_eda_t.join(tt, how='left')\n",
    "    \n",
    "# fill-in na \n",
    "for recency in recency_list:\n",
    "    df_eda_t['count_signup_'+str(recency)+'_by_ip'] = df_eda_t['count_signup_'+str(recency)+'_by_ip'].fillna(0)\n",
    "    \n",
    "df_eda_t = df_eda_t.reset_index()"
   ]
  },
  {
   "cell_type": "code",
   "execution_count": null,
   "metadata": {},
   "outputs": [],
   "source": [
    "df_model = df_eda_t.copy()\n",
    "\n",
    "col_cat = ['source', 'browser', 'signup_day_of_week', 'purchase_day_of_week', \n",
    "#            'age_binned',\n",
    "           'purchase_hour_of_day', 'country_freq'\n",
    "          ]\n",
    "\n",
    "col_other = ['fraud', 'purchase_value', 'signup_anomaly', 'ip_anomaly', \n",
    "             'age',\n",
    "             'signup_purchase_delta_seconds',\n",
    "            'count_signup_last_1_day_by_device',\n",
    "             'count_signup_last_7_day_by_device',\n",
    "             'count_signup_last_14_day_by_device',\n",
    "             'count_signup_last_30_day_by_device',\n",
    "             'count_signup_last_90_day_by_device',\n",
    "             'count_signup_last_180_day_by_device',\n",
    "             'count_signup_last_270_day_by_device',\n",
    "             'count_signup_last_360_day_by_device',\n",
    "             'count_signup_last_1_day_by_ip',\n",
    "             'count_signup_last_7_day_by_ip',\n",
    "             'count_signup_last_14_day_by_ip',\n",
    "             'count_signup_last_30_day_by_ip',\n",
    "             'count_signup_last_90_day_by_ip',\n",
    "             'count_signup_last_180_day_by_ip',\n",
    "             'count_signup_last_270_day_by_ip',\n",
    "             'count_signup_last_360_day_by_ip',\n",
    "             'order_cnt'\n",
    "            ]\n",
    "\n",
    "df_dummies = pd.get_dummies(df_model[col_cat], columns=col_cat)\n",
    "\n",
    "df_model = df_model[col_other].join(df_dummies)\n",
    "\n",
    "selected_features = list(df_model.columns.values)\n",
    "\n",
    "selected_features.remove('fraud')\n",
    "\n",
    "X_test = df_model[selected_features]\n",
    "y_test = df_model['fraud']"
   ]
  },
  {
   "cell_type": "code",
   "execution_count": null,
   "metadata": {},
   "outputs": [],
   "source": [
    "from sklearn.externals import joblib\n",
    "\n",
    "# load model\n",
    "loaded_model = joblib.load(filename)\n",
    "result = loaded_model.score(X_test, y_test)\n",
    "print(result) # accuracy"
   ]
  },
  {
   "cell_type": "code",
   "execution_count": null,
   "metadata": {},
   "outputs": [],
   "source": [
    "# Probability of first transaction of a new user is fraudulent.\n",
    "p_test_pred = loaded_model.predict_proba(X_test)[:, 1] \n",
    "print(p_test_pred)"
   ]
  }
 ],
 "metadata": {
  "kernelspec": {
   "display_name": "Python 3",
   "language": "python",
   "name": "python3"
  },
  "language_info": {
   "codemirror_mode": {
    "name": "ipython",
    "version": 3
   },
   "file_extension": ".py",
   "mimetype": "text/x-python",
   "name": "python",
   "nbconvert_exporter": "python",
   "pygments_lexer": "ipython3",
   "version": "3.6.4"
  }
 },
 "nbformat": 4,
 "nbformat_minor": 2
}
